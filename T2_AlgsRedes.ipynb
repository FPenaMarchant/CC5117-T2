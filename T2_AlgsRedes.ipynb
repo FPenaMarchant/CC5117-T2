{
  "nbformat": 4,
  "nbformat_minor": 0,
  "metadata": {
    "colab": {
      "provenance": []
    },
    "kernelspec": {
      "name": "python3",
      "display_name": "Python 3"
    },
    "language_info": {
      "name": "python"
    }
  },
  "cells": [
    {
      "cell_type": "markdown",
      "source": [
        "## Environment setup"
      ],
      "metadata": {
        "id": "4tPqUDPlwRAv"
      }
    },
    {
      "cell_type": "code",
      "source": [
        "!pip install opendatasets --upgrade --quiet\n",
        "!pip install scikit-learn --upgrade --quiet\n",
        "!pip install fairlearn --upgrade --quiet"
      ],
      "metadata": {
        "id": "KX28Y4jetjca",
        "colab": {
          "base_uri": "https://localhost:8080/"
        },
        "outputId": "3edb6e6b-91f6-4967-ddba-df6ef4005d2f"
      },
      "execution_count": null,
      "outputs": [
        {
          "output_type": "stream",
          "name": "stdout",
          "text": [
            "\u001b[?25l   \u001b[90m━━━━━━━━━━━━━━━━━━━━━━━━━━━━━━━━━━━━━━━━\u001b[0m \u001b[32m0.0/232.3 kB\u001b[0m \u001b[31m?\u001b[0m eta \u001b[36m-:--:--\u001b[0m\r\u001b[2K   \u001b[91m━━━━━━━━━━━━━━\u001b[0m\u001b[90m╺\u001b[0m\u001b[90m━━━━━━━━━━━━━━━━━━━━━━━━━\u001b[0m \u001b[32m81.9/232.3 kB\u001b[0m \u001b[31m3.0 MB/s\u001b[0m eta \u001b[36m0:00:01\u001b[0m\r\u001b[2K   \u001b[90m━━━━━━━━━━━━━━━━━━━━━━━━━━━━━━━━━━━━━━━━\u001b[0m \u001b[32m232.3/232.3 kB\u001b[0m \u001b[31m3.3 MB/s\u001b[0m eta \u001b[36m0:00:00\u001b[0m\n",
            "\u001b[?25h"
          ]
        }
      ]
    },
    {
      "cell_type": "code",
      "source": [
        "import pandas as pd\n",
        "import os\n",
        "import opendatasets as od\n",
        "import sklearn\n",
        "from fairlearn.metrics import demographic_parity_difference, demographic_parity_ratio, equalized_odds_difference, equalized_odds_ratio"
      ],
      "metadata": {
        "id": "9WPLvsGQ5Fvi"
      },
      "execution_count": null,
      "outputs": []
    },
    {
      "cell_type": "code",
      "source": [
        "#NECESITA UN kaggle.json (API key) que se puede sacar en configuración desde kaggle"
      ],
      "metadata": {
        "id": "k2CygFoKt9QT"
      },
      "execution_count": null,
      "outputs": []
    },
    {
      "cell_type": "markdown",
      "source": [
        "## 2.1) Selección del dataset"
      ],
      "metadata": {
        "id": "cQmJ9iyc46j8"
      }
    },
    {
      "cell_type": "code",
      "source": [
        "dataset_url = \"https://www.kaggle.com/datasets/satayjit/student-performance-bd\"\n",
        "od.download(dataset_url)"
      ],
      "metadata": {
        "colab": {
          "base_uri": "https://localhost:8080/"
        },
        "id": "1xVqRVwBsGtb",
        "outputId": "28006eca-43c0-4206-d301-6ace0a7e525e"
      },
      "execution_count": null,
      "outputs": [
        {
          "output_type": "stream",
          "name": "stdout",
          "text": [
            "Please provide your Kaggle credentials to download this dataset. Learn more: http://bit.ly/kaggle-creds\n",
            "Your Kaggle username: alanc26\n",
            "Your Kaggle Key: ··········\n",
            "Dataset URL: https://www.kaggle.com/datasets/satayjit/student-performance-bd\n",
            "Downloading student-performance-bd.zip to ./student-performance-bd\n"
          ]
        },
        {
          "output_type": "stream",
          "name": "stderr",
          "text": [
            "100%|██████████| 263k/263k [00:00<00:00, 609kB/s]"
          ]
        },
        {
          "output_type": "stream",
          "name": "stdout",
          "text": [
            "\n"
          ]
        },
        {
          "output_type": "stream",
          "name": "stderr",
          "text": [
            "\n"
          ]
        }
      ]
    },
    {
      "cell_type": "code",
      "source": [
        "df = pd.read_csv(\"./student-performance-bd/bd_students_per.csv\")\n",
        "df.sample(10)"
      ],
      "metadata": {
        "colab": {
          "base_uri": "https://localhost:8080/",
          "height": 586
        },
        "id": "iEDiv_Put24b",
        "outputId": "72516b2c-4d62-4716-8dc8-46d8e784020a"
      },
      "execution_count": null,
      "outputs": [
        {
          "output_type": "execute_result",
          "data": {
            "text/plain": [
              "        id                   full_name  age  gender location  family_size  \\\n",
              "7432  7434  Mst. Moniratul Jannati Mou   18  Female    Urban            7   \n",
              "3646  3648                Papia Halder   15  Female     City            2   \n",
              "7918  7920                 Vikas Iqbal   15    Male     City            3   \n",
              "3863  3865                   Kazi Miah   17    Male    Rural            4   \n",
              "4673  4675              Ahsanullah Sen   18    Male    Rural            5   \n",
              "5509  5511                  Badol Reza   15    Male    Urban            6   \n",
              "3383  3385             Delowar Bhuiyan   16    Male     City            3   \n",
              "257    259         Chayon Kumar Halder   16    Male    Urban            4   \n",
              "1828  1830                 Afsari Paul   16  Female    Rural            5   \n",
              "2120  2122                Tanvir Akter   18  Female     City            2   \n",
              "\n",
              "     mother_education father_education mother_job father_job  ... tutoring  \\\n",
              "7432              HSC             Hons         No        Yes  ...      Yes   \n",
              "3646              SSC              SSC         No        Yes  ...       No   \n",
              "7918        Under_SSC          Masters        Yes        Yes  ...      Yes   \n",
              "3863              HSC          Diploma         No        Yes  ...       No   \n",
              "4673        Under_SSC          Diploma         No        Yes  ...       No   \n",
              "5509          Masters          Masters         No         No  ...      Yes   \n",
              "3383              SSC     Non_Educated        Yes         No  ...      Yes   \n",
              "257              Hons              HSC         No        Yes  ...       No   \n",
              "1828        Under_SSC              SSC        Yes         No  ...      Yes   \n",
              "2120              SSC     Non_Educated        Yes        Yes  ...      Yes   \n",
              "\n",
              "     school_type attendance  extra_curricular_activities english math  \\\n",
              "7432        Govt         89                          Yes      75   74   \n",
              "3646        Govt         62                          Yes      78   70   \n",
              "7918   Semi_Govt         97                           No      94   85   \n",
              "3863   Semi_Govt         71                          Yes      50   66   \n",
              "4673   Semi_Govt         56                           No      63   48   \n",
              "5509   Semi_Govt         92                           No      70   61   \n",
              "3383   Semi_Govt         61                           No      76   80   \n",
              "257      Private         84                           No      78   71   \n",
              "1828        Govt         56                          Yes      40   57   \n",
              "2120     Private         74                           No      74   78   \n",
              "\n",
              "      science social_science  art_culture  stu_group  \n",
              "7432       72             72           80    science  \n",
              "3646       74             72           72   commerce  \n",
              "7918       87             87           90    science  \n",
              "3863       68             86           44       arts  \n",
              "4673       64             67           57       arts  \n",
              "5509       64             50           55       arts  \n",
              "3383       70             81           79   commerce  \n",
              "257        72             74           86   Commerce  \n",
              "1828       50             61           63       arts  \n",
              "2120       81             86           92   commerce  \n",
              "\n",
              "[10 rows x 24 columns]"
            ],
            "text/html": [
              "\n",
              "  <div id=\"df-f3d75b91-ce9c-43ba-9b31-2eb2dc626b7c\" class=\"colab-df-container\">\n",
              "    <div>\n",
              "<style scoped>\n",
              "    .dataframe tbody tr th:only-of-type {\n",
              "        vertical-align: middle;\n",
              "    }\n",
              "\n",
              "    .dataframe tbody tr th {\n",
              "        vertical-align: top;\n",
              "    }\n",
              "\n",
              "    .dataframe thead th {\n",
              "        text-align: right;\n",
              "    }\n",
              "</style>\n",
              "<table border=\"1\" class=\"dataframe\">\n",
              "  <thead>\n",
              "    <tr style=\"text-align: right;\">\n",
              "      <th></th>\n",
              "      <th>id</th>\n",
              "      <th>full_name</th>\n",
              "      <th>age</th>\n",
              "      <th>gender</th>\n",
              "      <th>location</th>\n",
              "      <th>family_size</th>\n",
              "      <th>mother_education</th>\n",
              "      <th>father_education</th>\n",
              "      <th>mother_job</th>\n",
              "      <th>father_job</th>\n",
              "      <th>...</th>\n",
              "      <th>tutoring</th>\n",
              "      <th>school_type</th>\n",
              "      <th>attendance</th>\n",
              "      <th>extra_curricular_activities</th>\n",
              "      <th>english</th>\n",
              "      <th>math</th>\n",
              "      <th>science</th>\n",
              "      <th>social_science</th>\n",
              "      <th>art_culture</th>\n",
              "      <th>stu_group</th>\n",
              "    </tr>\n",
              "  </thead>\n",
              "  <tbody>\n",
              "    <tr>\n",
              "      <th>7432</th>\n",
              "      <td>7434</td>\n",
              "      <td>Mst. Moniratul Jannati Mou</td>\n",
              "      <td>18</td>\n",
              "      <td>Female</td>\n",
              "      <td>Urban</td>\n",
              "      <td>7</td>\n",
              "      <td>HSC</td>\n",
              "      <td>Hons</td>\n",
              "      <td>No</td>\n",
              "      <td>Yes</td>\n",
              "      <td>...</td>\n",
              "      <td>Yes</td>\n",
              "      <td>Govt</td>\n",
              "      <td>89</td>\n",
              "      <td>Yes</td>\n",
              "      <td>75</td>\n",
              "      <td>74</td>\n",
              "      <td>72</td>\n",
              "      <td>72</td>\n",
              "      <td>80</td>\n",
              "      <td>science</td>\n",
              "    </tr>\n",
              "    <tr>\n",
              "      <th>3646</th>\n",
              "      <td>3648</td>\n",
              "      <td>Papia Halder</td>\n",
              "      <td>15</td>\n",
              "      <td>Female</td>\n",
              "      <td>City</td>\n",
              "      <td>2</td>\n",
              "      <td>SSC</td>\n",
              "      <td>SSC</td>\n",
              "      <td>No</td>\n",
              "      <td>Yes</td>\n",
              "      <td>...</td>\n",
              "      <td>No</td>\n",
              "      <td>Govt</td>\n",
              "      <td>62</td>\n",
              "      <td>Yes</td>\n",
              "      <td>78</td>\n",
              "      <td>70</td>\n",
              "      <td>74</td>\n",
              "      <td>72</td>\n",
              "      <td>72</td>\n",
              "      <td>commerce</td>\n",
              "    </tr>\n",
              "    <tr>\n",
              "      <th>7918</th>\n",
              "      <td>7920</td>\n",
              "      <td>Vikas Iqbal</td>\n",
              "      <td>15</td>\n",
              "      <td>Male</td>\n",
              "      <td>City</td>\n",
              "      <td>3</td>\n",
              "      <td>Under_SSC</td>\n",
              "      <td>Masters</td>\n",
              "      <td>Yes</td>\n",
              "      <td>Yes</td>\n",
              "      <td>...</td>\n",
              "      <td>Yes</td>\n",
              "      <td>Semi_Govt</td>\n",
              "      <td>97</td>\n",
              "      <td>No</td>\n",
              "      <td>94</td>\n",
              "      <td>85</td>\n",
              "      <td>87</td>\n",
              "      <td>87</td>\n",
              "      <td>90</td>\n",
              "      <td>science</td>\n",
              "    </tr>\n",
              "    <tr>\n",
              "      <th>3863</th>\n",
              "      <td>3865</td>\n",
              "      <td>Kazi Miah</td>\n",
              "      <td>17</td>\n",
              "      <td>Male</td>\n",
              "      <td>Rural</td>\n",
              "      <td>4</td>\n",
              "      <td>HSC</td>\n",
              "      <td>Diploma</td>\n",
              "      <td>No</td>\n",
              "      <td>Yes</td>\n",
              "      <td>...</td>\n",
              "      <td>No</td>\n",
              "      <td>Semi_Govt</td>\n",
              "      <td>71</td>\n",
              "      <td>Yes</td>\n",
              "      <td>50</td>\n",
              "      <td>66</td>\n",
              "      <td>68</td>\n",
              "      <td>86</td>\n",
              "      <td>44</td>\n",
              "      <td>arts</td>\n",
              "    </tr>\n",
              "    <tr>\n",
              "      <th>4673</th>\n",
              "      <td>4675</td>\n",
              "      <td>Ahsanullah Sen</td>\n",
              "      <td>18</td>\n",
              "      <td>Male</td>\n",
              "      <td>Rural</td>\n",
              "      <td>5</td>\n",
              "      <td>Under_SSC</td>\n",
              "      <td>Diploma</td>\n",
              "      <td>No</td>\n",
              "      <td>Yes</td>\n",
              "      <td>...</td>\n",
              "      <td>No</td>\n",
              "      <td>Semi_Govt</td>\n",
              "      <td>56</td>\n",
              "      <td>No</td>\n",
              "      <td>63</td>\n",
              "      <td>48</td>\n",
              "      <td>64</td>\n",
              "      <td>67</td>\n",
              "      <td>57</td>\n",
              "      <td>arts</td>\n",
              "    </tr>\n",
              "    <tr>\n",
              "      <th>5509</th>\n",
              "      <td>5511</td>\n",
              "      <td>Badol Reza</td>\n",
              "      <td>15</td>\n",
              "      <td>Male</td>\n",
              "      <td>Urban</td>\n",
              "      <td>6</td>\n",
              "      <td>Masters</td>\n",
              "      <td>Masters</td>\n",
              "      <td>No</td>\n",
              "      <td>No</td>\n",
              "      <td>...</td>\n",
              "      <td>Yes</td>\n",
              "      <td>Semi_Govt</td>\n",
              "      <td>92</td>\n",
              "      <td>No</td>\n",
              "      <td>70</td>\n",
              "      <td>61</td>\n",
              "      <td>64</td>\n",
              "      <td>50</td>\n",
              "      <td>55</td>\n",
              "      <td>arts</td>\n",
              "    </tr>\n",
              "    <tr>\n",
              "      <th>3383</th>\n",
              "      <td>3385</td>\n",
              "      <td>Delowar Bhuiyan</td>\n",
              "      <td>16</td>\n",
              "      <td>Male</td>\n",
              "      <td>City</td>\n",
              "      <td>3</td>\n",
              "      <td>SSC</td>\n",
              "      <td>Non_Educated</td>\n",
              "      <td>Yes</td>\n",
              "      <td>No</td>\n",
              "      <td>...</td>\n",
              "      <td>Yes</td>\n",
              "      <td>Semi_Govt</td>\n",
              "      <td>61</td>\n",
              "      <td>No</td>\n",
              "      <td>76</td>\n",
              "      <td>80</td>\n",
              "      <td>70</td>\n",
              "      <td>81</td>\n",
              "      <td>79</td>\n",
              "      <td>commerce</td>\n",
              "    </tr>\n",
              "    <tr>\n",
              "      <th>257</th>\n",
              "      <td>259</td>\n",
              "      <td>Chayon Kumar Halder</td>\n",
              "      <td>16</td>\n",
              "      <td>Male</td>\n",
              "      <td>Urban</td>\n",
              "      <td>4</td>\n",
              "      <td>Hons</td>\n",
              "      <td>HSC</td>\n",
              "      <td>No</td>\n",
              "      <td>Yes</td>\n",
              "      <td>...</td>\n",
              "      <td>No</td>\n",
              "      <td>Private</td>\n",
              "      <td>84</td>\n",
              "      <td>No</td>\n",
              "      <td>78</td>\n",
              "      <td>71</td>\n",
              "      <td>72</td>\n",
              "      <td>74</td>\n",
              "      <td>86</td>\n",
              "      <td>Commerce</td>\n",
              "    </tr>\n",
              "    <tr>\n",
              "      <th>1828</th>\n",
              "      <td>1830</td>\n",
              "      <td>Afsari Paul</td>\n",
              "      <td>16</td>\n",
              "      <td>Female</td>\n",
              "      <td>Rural</td>\n",
              "      <td>5</td>\n",
              "      <td>Under_SSC</td>\n",
              "      <td>SSC</td>\n",
              "      <td>Yes</td>\n",
              "      <td>No</td>\n",
              "      <td>...</td>\n",
              "      <td>Yes</td>\n",
              "      <td>Govt</td>\n",
              "      <td>56</td>\n",
              "      <td>Yes</td>\n",
              "      <td>40</td>\n",
              "      <td>57</td>\n",
              "      <td>50</td>\n",
              "      <td>61</td>\n",
              "      <td>63</td>\n",
              "      <td>arts</td>\n",
              "    </tr>\n",
              "    <tr>\n",
              "      <th>2120</th>\n",
              "      <td>2122</td>\n",
              "      <td>Tanvir Akter</td>\n",
              "      <td>18</td>\n",
              "      <td>Female</td>\n",
              "      <td>City</td>\n",
              "      <td>2</td>\n",
              "      <td>SSC</td>\n",
              "      <td>Non_Educated</td>\n",
              "      <td>Yes</td>\n",
              "      <td>Yes</td>\n",
              "      <td>...</td>\n",
              "      <td>Yes</td>\n",
              "      <td>Private</td>\n",
              "      <td>74</td>\n",
              "      <td>No</td>\n",
              "      <td>74</td>\n",
              "      <td>78</td>\n",
              "      <td>81</td>\n",
              "      <td>86</td>\n",
              "      <td>92</td>\n",
              "      <td>commerce</td>\n",
              "    </tr>\n",
              "  </tbody>\n",
              "</table>\n",
              "<p>10 rows × 24 columns</p>\n",
              "</div>\n",
              "    <div class=\"colab-df-buttons\">\n",
              "\n",
              "  <div class=\"colab-df-container\">\n",
              "    <button class=\"colab-df-convert\" onclick=\"convertToInteractive('df-f3d75b91-ce9c-43ba-9b31-2eb2dc626b7c')\"\n",
              "            title=\"Convert this dataframe to an interactive table.\"\n",
              "            style=\"display:none;\">\n",
              "\n",
              "  <svg xmlns=\"http://www.w3.org/2000/svg\" height=\"24px\" viewBox=\"0 -960 960 960\">\n",
              "    <path d=\"M120-120v-720h720v720H120Zm60-500h600v-160H180v160Zm220 220h160v-160H400v160Zm0 220h160v-160H400v160ZM180-400h160v-160H180v160Zm440 0h160v-160H620v160ZM180-180h160v-160H180v160Zm440 0h160v-160H620v160Z\"/>\n",
              "  </svg>\n",
              "    </button>\n",
              "\n",
              "  <style>\n",
              "    .colab-df-container {\n",
              "      display:flex;\n",
              "      gap: 12px;\n",
              "    }\n",
              "\n",
              "    .colab-df-convert {\n",
              "      background-color: #E8F0FE;\n",
              "      border: none;\n",
              "      border-radius: 50%;\n",
              "      cursor: pointer;\n",
              "      display: none;\n",
              "      fill: #1967D2;\n",
              "      height: 32px;\n",
              "      padding: 0 0 0 0;\n",
              "      width: 32px;\n",
              "    }\n",
              "\n",
              "    .colab-df-convert:hover {\n",
              "      background-color: #E2EBFA;\n",
              "      box-shadow: 0px 1px 2px rgba(60, 64, 67, 0.3), 0px 1px 3px 1px rgba(60, 64, 67, 0.15);\n",
              "      fill: #174EA6;\n",
              "    }\n",
              "\n",
              "    .colab-df-buttons div {\n",
              "      margin-bottom: 4px;\n",
              "    }\n",
              "\n",
              "    [theme=dark] .colab-df-convert {\n",
              "      background-color: #3B4455;\n",
              "      fill: #D2E3FC;\n",
              "    }\n",
              "\n",
              "    [theme=dark] .colab-df-convert:hover {\n",
              "      background-color: #434B5C;\n",
              "      box-shadow: 0px 1px 3px 1px rgba(0, 0, 0, 0.15);\n",
              "      filter: drop-shadow(0px 1px 2px rgba(0, 0, 0, 0.3));\n",
              "      fill: #FFFFFF;\n",
              "    }\n",
              "  </style>\n",
              "\n",
              "    <script>\n",
              "      const buttonEl =\n",
              "        document.querySelector('#df-f3d75b91-ce9c-43ba-9b31-2eb2dc626b7c button.colab-df-convert');\n",
              "      buttonEl.style.display =\n",
              "        google.colab.kernel.accessAllowed ? 'block' : 'none';\n",
              "\n",
              "      async function convertToInteractive(key) {\n",
              "        const element = document.querySelector('#df-f3d75b91-ce9c-43ba-9b31-2eb2dc626b7c');\n",
              "        const dataTable =\n",
              "          await google.colab.kernel.invokeFunction('convertToInteractive',\n",
              "                                                    [key], {});\n",
              "        if (!dataTable) return;\n",
              "\n",
              "        const docLinkHtml = 'Like what you see? Visit the ' +\n",
              "          '<a target=\"_blank\" href=https://colab.research.google.com/notebooks/data_table.ipynb>data table notebook</a>'\n",
              "          + ' to learn more about interactive tables.';\n",
              "        element.innerHTML = '';\n",
              "        dataTable['output_type'] = 'display_data';\n",
              "        await google.colab.output.renderOutput(dataTable, element);\n",
              "        const docLink = document.createElement('div');\n",
              "        docLink.innerHTML = docLinkHtml;\n",
              "        element.appendChild(docLink);\n",
              "      }\n",
              "    </script>\n",
              "  </div>\n",
              "\n",
              "\n",
              "<div id=\"df-534a593f-a45b-4348-baa6-3dcd636920af\">\n",
              "  <button class=\"colab-df-quickchart\" onclick=\"quickchart('df-534a593f-a45b-4348-baa6-3dcd636920af')\"\n",
              "            title=\"Suggest charts\"\n",
              "            style=\"display:none;\">\n",
              "\n",
              "<svg xmlns=\"http://www.w3.org/2000/svg\" height=\"24px\"viewBox=\"0 0 24 24\"\n",
              "     width=\"24px\">\n",
              "    <g>\n",
              "        <path d=\"M19 3H5c-1.1 0-2 .9-2 2v14c0 1.1.9 2 2 2h14c1.1 0 2-.9 2-2V5c0-1.1-.9-2-2-2zM9 17H7v-7h2v7zm4 0h-2V7h2v10zm4 0h-2v-4h2v4z\"/>\n",
              "    </g>\n",
              "</svg>\n",
              "  </button>\n",
              "\n",
              "<style>\n",
              "  .colab-df-quickchart {\n",
              "      --bg-color: #E8F0FE;\n",
              "      --fill-color: #1967D2;\n",
              "      --hover-bg-color: #E2EBFA;\n",
              "      --hover-fill-color: #174EA6;\n",
              "      --disabled-fill-color: #AAA;\n",
              "      --disabled-bg-color: #DDD;\n",
              "  }\n",
              "\n",
              "  [theme=dark] .colab-df-quickchart {\n",
              "      --bg-color: #3B4455;\n",
              "      --fill-color: #D2E3FC;\n",
              "      --hover-bg-color: #434B5C;\n",
              "      --hover-fill-color: #FFFFFF;\n",
              "      --disabled-bg-color: #3B4455;\n",
              "      --disabled-fill-color: #666;\n",
              "  }\n",
              "\n",
              "  .colab-df-quickchart {\n",
              "    background-color: var(--bg-color);\n",
              "    border: none;\n",
              "    border-radius: 50%;\n",
              "    cursor: pointer;\n",
              "    display: none;\n",
              "    fill: var(--fill-color);\n",
              "    height: 32px;\n",
              "    padding: 0;\n",
              "    width: 32px;\n",
              "  }\n",
              "\n",
              "  .colab-df-quickchart:hover {\n",
              "    background-color: var(--hover-bg-color);\n",
              "    box-shadow: 0 1px 2px rgba(60, 64, 67, 0.3), 0 1px 3px 1px rgba(60, 64, 67, 0.15);\n",
              "    fill: var(--button-hover-fill-color);\n",
              "  }\n",
              "\n",
              "  .colab-df-quickchart-complete:disabled,\n",
              "  .colab-df-quickchart-complete:disabled:hover {\n",
              "    background-color: var(--disabled-bg-color);\n",
              "    fill: var(--disabled-fill-color);\n",
              "    box-shadow: none;\n",
              "  }\n",
              "\n",
              "  .colab-df-spinner {\n",
              "    border: 2px solid var(--fill-color);\n",
              "    border-color: transparent;\n",
              "    border-bottom-color: var(--fill-color);\n",
              "    animation:\n",
              "      spin 1s steps(1) infinite;\n",
              "  }\n",
              "\n",
              "  @keyframes spin {\n",
              "    0% {\n",
              "      border-color: transparent;\n",
              "      border-bottom-color: var(--fill-color);\n",
              "      border-left-color: var(--fill-color);\n",
              "    }\n",
              "    20% {\n",
              "      border-color: transparent;\n",
              "      border-left-color: var(--fill-color);\n",
              "      border-top-color: var(--fill-color);\n",
              "    }\n",
              "    30% {\n",
              "      border-color: transparent;\n",
              "      border-left-color: var(--fill-color);\n",
              "      border-top-color: var(--fill-color);\n",
              "      border-right-color: var(--fill-color);\n",
              "    }\n",
              "    40% {\n",
              "      border-color: transparent;\n",
              "      border-right-color: var(--fill-color);\n",
              "      border-top-color: var(--fill-color);\n",
              "    }\n",
              "    60% {\n",
              "      border-color: transparent;\n",
              "      border-right-color: var(--fill-color);\n",
              "    }\n",
              "    80% {\n",
              "      border-color: transparent;\n",
              "      border-right-color: var(--fill-color);\n",
              "      border-bottom-color: var(--fill-color);\n",
              "    }\n",
              "    90% {\n",
              "      border-color: transparent;\n",
              "      border-bottom-color: var(--fill-color);\n",
              "    }\n",
              "  }\n",
              "</style>\n",
              "\n",
              "  <script>\n",
              "    async function quickchart(key) {\n",
              "      const quickchartButtonEl =\n",
              "        document.querySelector('#' + key + ' button');\n",
              "      quickchartButtonEl.disabled = true;  // To prevent multiple clicks.\n",
              "      quickchartButtonEl.classList.add('colab-df-spinner');\n",
              "      try {\n",
              "        const charts = await google.colab.kernel.invokeFunction(\n",
              "            'suggestCharts', [key], {});\n",
              "      } catch (error) {\n",
              "        console.error('Error during call to suggestCharts:', error);\n",
              "      }\n",
              "      quickchartButtonEl.classList.remove('colab-df-spinner');\n",
              "      quickchartButtonEl.classList.add('colab-df-quickchart-complete');\n",
              "    }\n",
              "    (() => {\n",
              "      let quickchartButtonEl =\n",
              "        document.querySelector('#df-534a593f-a45b-4348-baa6-3dcd636920af button');\n",
              "      quickchartButtonEl.style.display =\n",
              "        google.colab.kernel.accessAllowed ? 'block' : 'none';\n",
              "    })();\n",
              "  </script>\n",
              "</div>\n",
              "\n",
              "    </div>\n",
              "  </div>\n"
            ],
            "application/vnd.google.colaboratory.intrinsic+json": {
              "type": "dataframe"
            }
          },
          "metadata": {},
          "execution_count": 4
        }
      ]
    },
    {
      "cell_type": "markdown",
      "source": [
        "### Pre-processing"
      ],
      "metadata": {
        "id": "WALEbI_XwYLY"
      }
    },
    {
      "cell_type": "code",
      "source": [
        "import statistics\n",
        "\n",
        "# Métricas para asignar aprobación/reprobación según resultados en pruebas\n",
        "def f(english, math,\tscience,\tsocial_science,\tart_culture):\n",
        "  grades= [english,math,science,social_science,art_culture]\n",
        "  mean = statistics.mean(grades)\n",
        "  if mean >= 60:\n",
        "    return 1\n",
        "  else:\n",
        "    return 0"
      ],
      "metadata": {
        "id": "4oQgEeL10kH4"
      },
      "execution_count": null,
      "outputs": []
    },
    {
      "cell_type": "code",
      "source": [
        "df['approved'] = df.apply(lambda x: f(x.english, x.math, x.science, x.social_science, x.art_culture), axis=1)\n",
        "df.drop(columns=['english','math','science', 'social_science', 'art_culture', 'full_name', 'id'], inplace=True)"
      ],
      "metadata": {
        "id": "TNfXLN0LzuJ0"
      },
      "execution_count": null,
      "outputs": []
    },
    {
      "cell_type": "code",
      "source": [
        "df = df.dropna()"
      ],
      "metadata": {
        "id": "d8EO1qwXEaUn"
      },
      "execution_count": null,
      "outputs": []
    },
    {
      "cell_type": "code",
      "source": [
        "df.sample(5)"
      ],
      "metadata": {
        "colab": {
          "base_uri": "https://localhost:8080/",
          "height": 226
        },
        "id": "qBgG9mr-6Xo0",
        "outputId": "9b305ff6-df88-44d3-bec9-f1320e8bac73"
      },
      "execution_count": null,
      "outputs": [
        {
          "output_type": "execute_result",
          "data": {
            "text/plain": [
              "      age  gender location  family_size mother_education father_education  \\\n",
              "8108   17  Female     City            6              HSC        Under_SSC   \n",
              "2387   16    Male    Rural            2           Honors          Diploma   \n",
              "6923   18    Male    Urban            6          Diploma        Under_SSC   \n",
              "7924   15  Female    Rural            5     Non_Educated     Non_Educated   \n",
              "6492   17    Male     City            7              SSC          Masters   \n",
              "\n",
              "     mother_job father_job guardian parental_involvement internet_access  \\\n",
              "8108         No         No   Mother                  Yes              No   \n",
              "2387         No        Yes   Mother                  Yes             Yes   \n",
              "6923         No        Yes   Father                  Yes              No   \n",
              "7924         No         No    Other                   No             Yes   \n",
              "6492         No         No   Father                   No              No   \n",
              "\n",
              "      studytime tutoring school_type  attendance extra_curricular_activities  \\\n",
              "8108          1      Yes     Private          77                         Yes   \n",
              "2387          3      Yes     Private          71                         Yes   \n",
              "6923          2      Yes     Private          84                          No   \n",
              "7924          5       No        Govt          73                         Yes   \n",
              "6492          2      Yes        Govt          73                         Yes   \n",
              "\n",
              "     stu_group  approved  \n",
              "8108      arts         0  \n",
              "2387      arts         0  \n",
              "6923      arts         0  \n",
              "7924  commerce         1  \n",
              "6492      arts         0  "
            ],
            "text/html": [
              "\n",
              "  <div id=\"df-4b28d437-a13f-4487-95c1-93261b5bbc84\" class=\"colab-df-container\">\n",
              "    <div>\n",
              "<style scoped>\n",
              "    .dataframe tbody tr th:only-of-type {\n",
              "        vertical-align: middle;\n",
              "    }\n",
              "\n",
              "    .dataframe tbody tr th {\n",
              "        vertical-align: top;\n",
              "    }\n",
              "\n",
              "    .dataframe thead th {\n",
              "        text-align: right;\n",
              "    }\n",
              "</style>\n",
              "<table border=\"1\" class=\"dataframe\">\n",
              "  <thead>\n",
              "    <tr style=\"text-align: right;\">\n",
              "      <th></th>\n",
              "      <th>age</th>\n",
              "      <th>gender</th>\n",
              "      <th>location</th>\n",
              "      <th>family_size</th>\n",
              "      <th>mother_education</th>\n",
              "      <th>father_education</th>\n",
              "      <th>mother_job</th>\n",
              "      <th>father_job</th>\n",
              "      <th>guardian</th>\n",
              "      <th>parental_involvement</th>\n",
              "      <th>internet_access</th>\n",
              "      <th>studytime</th>\n",
              "      <th>tutoring</th>\n",
              "      <th>school_type</th>\n",
              "      <th>attendance</th>\n",
              "      <th>extra_curricular_activities</th>\n",
              "      <th>stu_group</th>\n",
              "      <th>approved</th>\n",
              "    </tr>\n",
              "  </thead>\n",
              "  <tbody>\n",
              "    <tr>\n",
              "      <th>8108</th>\n",
              "      <td>17</td>\n",
              "      <td>Female</td>\n",
              "      <td>City</td>\n",
              "      <td>6</td>\n",
              "      <td>HSC</td>\n",
              "      <td>Under_SSC</td>\n",
              "      <td>No</td>\n",
              "      <td>No</td>\n",
              "      <td>Mother</td>\n",
              "      <td>Yes</td>\n",
              "      <td>No</td>\n",
              "      <td>1</td>\n",
              "      <td>Yes</td>\n",
              "      <td>Private</td>\n",
              "      <td>77</td>\n",
              "      <td>Yes</td>\n",
              "      <td>arts</td>\n",
              "      <td>0</td>\n",
              "    </tr>\n",
              "    <tr>\n",
              "      <th>2387</th>\n",
              "      <td>16</td>\n",
              "      <td>Male</td>\n",
              "      <td>Rural</td>\n",
              "      <td>2</td>\n",
              "      <td>Honors</td>\n",
              "      <td>Diploma</td>\n",
              "      <td>No</td>\n",
              "      <td>Yes</td>\n",
              "      <td>Mother</td>\n",
              "      <td>Yes</td>\n",
              "      <td>Yes</td>\n",
              "      <td>3</td>\n",
              "      <td>Yes</td>\n",
              "      <td>Private</td>\n",
              "      <td>71</td>\n",
              "      <td>Yes</td>\n",
              "      <td>arts</td>\n",
              "      <td>0</td>\n",
              "    </tr>\n",
              "    <tr>\n",
              "      <th>6923</th>\n",
              "      <td>18</td>\n",
              "      <td>Male</td>\n",
              "      <td>Urban</td>\n",
              "      <td>6</td>\n",
              "      <td>Diploma</td>\n",
              "      <td>Under_SSC</td>\n",
              "      <td>No</td>\n",
              "      <td>Yes</td>\n",
              "      <td>Father</td>\n",
              "      <td>Yes</td>\n",
              "      <td>No</td>\n",
              "      <td>2</td>\n",
              "      <td>Yes</td>\n",
              "      <td>Private</td>\n",
              "      <td>84</td>\n",
              "      <td>No</td>\n",
              "      <td>arts</td>\n",
              "      <td>0</td>\n",
              "    </tr>\n",
              "    <tr>\n",
              "      <th>7924</th>\n",
              "      <td>15</td>\n",
              "      <td>Female</td>\n",
              "      <td>Rural</td>\n",
              "      <td>5</td>\n",
              "      <td>Non_Educated</td>\n",
              "      <td>Non_Educated</td>\n",
              "      <td>No</td>\n",
              "      <td>No</td>\n",
              "      <td>Other</td>\n",
              "      <td>No</td>\n",
              "      <td>Yes</td>\n",
              "      <td>5</td>\n",
              "      <td>No</td>\n",
              "      <td>Govt</td>\n",
              "      <td>73</td>\n",
              "      <td>Yes</td>\n",
              "      <td>commerce</td>\n",
              "      <td>1</td>\n",
              "    </tr>\n",
              "    <tr>\n",
              "      <th>6492</th>\n",
              "      <td>17</td>\n",
              "      <td>Male</td>\n",
              "      <td>City</td>\n",
              "      <td>7</td>\n",
              "      <td>SSC</td>\n",
              "      <td>Masters</td>\n",
              "      <td>No</td>\n",
              "      <td>No</td>\n",
              "      <td>Father</td>\n",
              "      <td>No</td>\n",
              "      <td>No</td>\n",
              "      <td>2</td>\n",
              "      <td>Yes</td>\n",
              "      <td>Govt</td>\n",
              "      <td>73</td>\n",
              "      <td>Yes</td>\n",
              "      <td>arts</td>\n",
              "      <td>0</td>\n",
              "    </tr>\n",
              "  </tbody>\n",
              "</table>\n",
              "</div>\n",
              "    <div class=\"colab-df-buttons\">\n",
              "\n",
              "  <div class=\"colab-df-container\">\n",
              "    <button class=\"colab-df-convert\" onclick=\"convertToInteractive('df-4b28d437-a13f-4487-95c1-93261b5bbc84')\"\n",
              "            title=\"Convert this dataframe to an interactive table.\"\n",
              "            style=\"display:none;\">\n",
              "\n",
              "  <svg xmlns=\"http://www.w3.org/2000/svg\" height=\"24px\" viewBox=\"0 -960 960 960\">\n",
              "    <path d=\"M120-120v-720h720v720H120Zm60-500h600v-160H180v160Zm220 220h160v-160H400v160Zm0 220h160v-160H400v160ZM180-400h160v-160H180v160Zm440 0h160v-160H620v160ZM180-180h160v-160H180v160Zm440 0h160v-160H620v160Z\"/>\n",
              "  </svg>\n",
              "    </button>\n",
              "\n",
              "  <style>\n",
              "    .colab-df-container {\n",
              "      display:flex;\n",
              "      gap: 12px;\n",
              "    }\n",
              "\n",
              "    .colab-df-convert {\n",
              "      background-color: #E8F0FE;\n",
              "      border: none;\n",
              "      border-radius: 50%;\n",
              "      cursor: pointer;\n",
              "      display: none;\n",
              "      fill: #1967D2;\n",
              "      height: 32px;\n",
              "      padding: 0 0 0 0;\n",
              "      width: 32px;\n",
              "    }\n",
              "\n",
              "    .colab-df-convert:hover {\n",
              "      background-color: #E2EBFA;\n",
              "      box-shadow: 0px 1px 2px rgba(60, 64, 67, 0.3), 0px 1px 3px 1px rgba(60, 64, 67, 0.15);\n",
              "      fill: #174EA6;\n",
              "    }\n",
              "\n",
              "    .colab-df-buttons div {\n",
              "      margin-bottom: 4px;\n",
              "    }\n",
              "\n",
              "    [theme=dark] .colab-df-convert {\n",
              "      background-color: #3B4455;\n",
              "      fill: #D2E3FC;\n",
              "    }\n",
              "\n",
              "    [theme=dark] .colab-df-convert:hover {\n",
              "      background-color: #434B5C;\n",
              "      box-shadow: 0px 1px 3px 1px rgba(0, 0, 0, 0.15);\n",
              "      filter: drop-shadow(0px 1px 2px rgba(0, 0, 0, 0.3));\n",
              "      fill: #FFFFFF;\n",
              "    }\n",
              "  </style>\n",
              "\n",
              "    <script>\n",
              "      const buttonEl =\n",
              "        document.querySelector('#df-4b28d437-a13f-4487-95c1-93261b5bbc84 button.colab-df-convert');\n",
              "      buttonEl.style.display =\n",
              "        google.colab.kernel.accessAllowed ? 'block' : 'none';\n",
              "\n",
              "      async function convertToInteractive(key) {\n",
              "        const element = document.querySelector('#df-4b28d437-a13f-4487-95c1-93261b5bbc84');\n",
              "        const dataTable =\n",
              "          await google.colab.kernel.invokeFunction('convertToInteractive',\n",
              "                                                    [key], {});\n",
              "        if (!dataTable) return;\n",
              "\n",
              "        const docLinkHtml = 'Like what you see? Visit the ' +\n",
              "          '<a target=\"_blank\" href=https://colab.research.google.com/notebooks/data_table.ipynb>data table notebook</a>'\n",
              "          + ' to learn more about interactive tables.';\n",
              "        element.innerHTML = '';\n",
              "        dataTable['output_type'] = 'display_data';\n",
              "        await google.colab.output.renderOutput(dataTable, element);\n",
              "        const docLink = document.createElement('div');\n",
              "        docLink.innerHTML = docLinkHtml;\n",
              "        element.appendChild(docLink);\n",
              "      }\n",
              "    </script>\n",
              "  </div>\n",
              "\n",
              "\n",
              "<div id=\"df-97c08130-f45e-4b92-a80c-4f2b99da0066\">\n",
              "  <button class=\"colab-df-quickchart\" onclick=\"quickchart('df-97c08130-f45e-4b92-a80c-4f2b99da0066')\"\n",
              "            title=\"Suggest charts\"\n",
              "            style=\"display:none;\">\n",
              "\n",
              "<svg xmlns=\"http://www.w3.org/2000/svg\" height=\"24px\"viewBox=\"0 0 24 24\"\n",
              "     width=\"24px\">\n",
              "    <g>\n",
              "        <path d=\"M19 3H5c-1.1 0-2 .9-2 2v14c0 1.1.9 2 2 2h14c1.1 0 2-.9 2-2V5c0-1.1-.9-2-2-2zM9 17H7v-7h2v7zm4 0h-2V7h2v10zm4 0h-2v-4h2v4z\"/>\n",
              "    </g>\n",
              "</svg>\n",
              "  </button>\n",
              "\n",
              "<style>\n",
              "  .colab-df-quickchart {\n",
              "      --bg-color: #E8F0FE;\n",
              "      --fill-color: #1967D2;\n",
              "      --hover-bg-color: #E2EBFA;\n",
              "      --hover-fill-color: #174EA6;\n",
              "      --disabled-fill-color: #AAA;\n",
              "      --disabled-bg-color: #DDD;\n",
              "  }\n",
              "\n",
              "  [theme=dark] .colab-df-quickchart {\n",
              "      --bg-color: #3B4455;\n",
              "      --fill-color: #D2E3FC;\n",
              "      --hover-bg-color: #434B5C;\n",
              "      --hover-fill-color: #FFFFFF;\n",
              "      --disabled-bg-color: #3B4455;\n",
              "      --disabled-fill-color: #666;\n",
              "  }\n",
              "\n",
              "  .colab-df-quickchart {\n",
              "    background-color: var(--bg-color);\n",
              "    border: none;\n",
              "    border-radius: 50%;\n",
              "    cursor: pointer;\n",
              "    display: none;\n",
              "    fill: var(--fill-color);\n",
              "    height: 32px;\n",
              "    padding: 0;\n",
              "    width: 32px;\n",
              "  }\n",
              "\n",
              "  .colab-df-quickchart:hover {\n",
              "    background-color: var(--hover-bg-color);\n",
              "    box-shadow: 0 1px 2px rgba(60, 64, 67, 0.3), 0 1px 3px 1px rgba(60, 64, 67, 0.15);\n",
              "    fill: var(--button-hover-fill-color);\n",
              "  }\n",
              "\n",
              "  .colab-df-quickchart-complete:disabled,\n",
              "  .colab-df-quickchart-complete:disabled:hover {\n",
              "    background-color: var(--disabled-bg-color);\n",
              "    fill: var(--disabled-fill-color);\n",
              "    box-shadow: none;\n",
              "  }\n",
              "\n",
              "  .colab-df-spinner {\n",
              "    border: 2px solid var(--fill-color);\n",
              "    border-color: transparent;\n",
              "    border-bottom-color: var(--fill-color);\n",
              "    animation:\n",
              "      spin 1s steps(1) infinite;\n",
              "  }\n",
              "\n",
              "  @keyframes spin {\n",
              "    0% {\n",
              "      border-color: transparent;\n",
              "      border-bottom-color: var(--fill-color);\n",
              "      border-left-color: var(--fill-color);\n",
              "    }\n",
              "    20% {\n",
              "      border-color: transparent;\n",
              "      border-left-color: var(--fill-color);\n",
              "      border-top-color: var(--fill-color);\n",
              "    }\n",
              "    30% {\n",
              "      border-color: transparent;\n",
              "      border-left-color: var(--fill-color);\n",
              "      border-top-color: var(--fill-color);\n",
              "      border-right-color: var(--fill-color);\n",
              "    }\n",
              "    40% {\n",
              "      border-color: transparent;\n",
              "      border-right-color: var(--fill-color);\n",
              "      border-top-color: var(--fill-color);\n",
              "    }\n",
              "    60% {\n",
              "      border-color: transparent;\n",
              "      border-right-color: var(--fill-color);\n",
              "    }\n",
              "    80% {\n",
              "      border-color: transparent;\n",
              "      border-right-color: var(--fill-color);\n",
              "      border-bottom-color: var(--fill-color);\n",
              "    }\n",
              "    90% {\n",
              "      border-color: transparent;\n",
              "      border-bottom-color: var(--fill-color);\n",
              "    }\n",
              "  }\n",
              "</style>\n",
              "\n",
              "  <script>\n",
              "    async function quickchart(key) {\n",
              "      const quickchartButtonEl =\n",
              "        document.querySelector('#' + key + ' button');\n",
              "      quickchartButtonEl.disabled = true;  // To prevent multiple clicks.\n",
              "      quickchartButtonEl.classList.add('colab-df-spinner');\n",
              "      try {\n",
              "        const charts = await google.colab.kernel.invokeFunction(\n",
              "            'suggestCharts', [key], {});\n",
              "      } catch (error) {\n",
              "        console.error('Error during call to suggestCharts:', error);\n",
              "      }\n",
              "      quickchartButtonEl.classList.remove('colab-df-spinner');\n",
              "      quickchartButtonEl.classList.add('colab-df-quickchart-complete');\n",
              "    }\n",
              "    (() => {\n",
              "      let quickchartButtonEl =\n",
              "        document.querySelector('#df-97c08130-f45e-4b92-a80c-4f2b99da0066 button');\n",
              "      quickchartButtonEl.style.display =\n",
              "        google.colab.kernel.accessAllowed ? 'block' : 'none';\n",
              "    })();\n",
              "  </script>\n",
              "</div>\n",
              "\n",
              "    </div>\n",
              "  </div>\n"
            ],
            "application/vnd.google.colaboratory.intrinsic+json": {
              "type": "dataframe",
              "summary": "{\n  \"name\": \"df\",\n  \"rows\": 5,\n  \"fields\": [\n    {\n      \"column\": \"age\",\n      \"properties\": {\n        \"dtype\": \"number\",\n        \"std\": 1,\n        \"min\": 15,\n        \"max\": 18,\n        \"num_unique_values\": 4,\n        \"samples\": [\n          16,\n          15,\n          17\n        ],\n        \"semantic_type\": \"\",\n        \"description\": \"\"\n      }\n    },\n    {\n      \"column\": \"gender\",\n      \"properties\": {\n        \"dtype\": \"category\",\n        \"num_unique_values\": 2,\n        \"samples\": [\n          \"Male\",\n          \"Female\"\n        ],\n        \"semantic_type\": \"\",\n        \"description\": \"\"\n      }\n    },\n    {\n      \"column\": \"location\",\n      \"properties\": {\n        \"dtype\": \"string\",\n        \"num_unique_values\": 3,\n        \"samples\": [\n          \"City\",\n          \"Rural\"\n        ],\n        \"semantic_type\": \"\",\n        \"description\": \"\"\n      }\n    },\n    {\n      \"column\": \"family_size\",\n      \"properties\": {\n        \"dtype\": \"number\",\n        \"std\": 1,\n        \"min\": 2,\n        \"max\": 7,\n        \"num_unique_values\": 4,\n        \"samples\": [\n          2,\n          7\n        ],\n        \"semantic_type\": \"\",\n        \"description\": \"\"\n      }\n    },\n    {\n      \"column\": \"mother_education\",\n      \"properties\": {\n        \"dtype\": \"string\",\n        \"num_unique_values\": 5,\n        \"samples\": [\n          \"Honors\",\n          \"SSC\"\n        ],\n        \"semantic_type\": \"\",\n        \"description\": \"\"\n      }\n    },\n    {\n      \"column\": \"father_education\",\n      \"properties\": {\n        \"dtype\": \"string\",\n        \"num_unique_values\": 4,\n        \"samples\": [\n          \"Diploma\",\n          \"Masters\"\n        ],\n        \"semantic_type\": \"\",\n        \"description\": \"\"\n      }\n    },\n    {\n      \"column\": \"mother_job\",\n      \"properties\": {\n        \"dtype\": \"category\",\n        \"num_unique_values\": 1,\n        \"samples\": [\n          \"No\"\n        ],\n        \"semantic_type\": \"\",\n        \"description\": \"\"\n      }\n    },\n    {\n      \"column\": \"father_job\",\n      \"properties\": {\n        \"dtype\": \"category\",\n        \"num_unique_values\": 2,\n        \"samples\": [\n          \"Yes\"\n        ],\n        \"semantic_type\": \"\",\n        \"description\": \"\"\n      }\n    },\n    {\n      \"column\": \"guardian\",\n      \"properties\": {\n        \"dtype\": \"string\",\n        \"num_unique_values\": 3,\n        \"samples\": [\n          \"Mother\"\n        ],\n        \"semantic_type\": \"\",\n        \"description\": \"\"\n      }\n    },\n    {\n      \"column\": \"parental_involvement\",\n      \"properties\": {\n        \"dtype\": \"category\",\n        \"num_unique_values\": 2,\n        \"samples\": [\n          \"No\"\n        ],\n        \"semantic_type\": \"\",\n        \"description\": \"\"\n      }\n    },\n    {\n      \"column\": \"internet_access\",\n      \"properties\": {\n        \"dtype\": \"category\",\n        \"num_unique_values\": 2,\n        \"samples\": [\n          \"Yes\"\n        ],\n        \"semantic_type\": \"\",\n        \"description\": \"\"\n      }\n    },\n    {\n      \"column\": \"studytime\",\n      \"properties\": {\n        \"dtype\": \"number\",\n        \"std\": 1,\n        \"min\": 1,\n        \"max\": 5,\n        \"num_unique_values\": 4,\n        \"samples\": [\n          3\n        ],\n        \"semantic_type\": \"\",\n        \"description\": \"\"\n      }\n    },\n    {\n      \"column\": \"tutoring\",\n      \"properties\": {\n        \"dtype\": \"category\",\n        \"num_unique_values\": 2,\n        \"samples\": [\n          \"No\"\n        ],\n        \"semantic_type\": \"\",\n        \"description\": \"\"\n      }\n    },\n    {\n      \"column\": \"school_type\",\n      \"properties\": {\n        \"dtype\": \"category\",\n        \"num_unique_values\": 2,\n        \"samples\": [\n          \"Govt\"\n        ],\n        \"semantic_type\": \"\",\n        \"description\": \"\"\n      }\n    },\n    {\n      \"column\": \"attendance\",\n      \"properties\": {\n        \"dtype\": \"number\",\n        \"std\": 5,\n        \"min\": 71,\n        \"max\": 84,\n        \"num_unique_values\": 4,\n        \"samples\": [\n          71\n        ],\n        \"semantic_type\": \"\",\n        \"description\": \"\"\n      }\n    },\n    {\n      \"column\": \"extra_curricular_activities\",\n      \"properties\": {\n        \"dtype\": \"category\",\n        \"num_unique_values\": 2,\n        \"samples\": [\n          \"No\"\n        ],\n        \"semantic_type\": \"\",\n        \"description\": \"\"\n      }\n    },\n    {\n      \"column\": \"stu_group\",\n      \"properties\": {\n        \"dtype\": \"category\",\n        \"num_unique_values\": 2,\n        \"samples\": [\n          \"commerce\"\n        ],\n        \"semantic_type\": \"\",\n        \"description\": \"\"\n      }\n    },\n    {\n      \"column\": \"approved\",\n      \"properties\": {\n        \"dtype\": \"number\",\n        \"std\": 0,\n        \"min\": 0,\n        \"max\": 1,\n        \"num_unique_values\": 2,\n        \"samples\": [\n          1\n        ],\n        \"semantic_type\": \"\",\n        \"description\": \"\"\n      }\n    }\n  ]\n}"
            }
          },
          "metadata": {},
          "execution_count": 8
        }
      ]
    },
    {
      "cell_type": "code",
      "source": [
        "# Funciones para asignar valores a datos no numéricos\n",
        "\n",
        "def multiple_to_int(x, value_list):\n",
        "  return value_list.index(x)\n",
        "\n",
        "def multiple_col_to_int_col(df, col=None, cols=None):\n",
        "  if col:\n",
        "    multiple_col_to_int_col(df, cols=[col])\n",
        "  if cols:\n",
        "    for col in cols:\n",
        "      value_list = list(df[col].unique())\n",
        "      df[col] = df.apply(lambda x: multiple_to_int(x[col], value_list), axis=1)\n",
        "  return df"
      ],
      "metadata": {
        "id": "lDJE_1XrCLP6"
      },
      "execution_count": null,
      "outputs": []
    },
    {
      "cell_type": "code",
      "source": [
        "df = multiple_col_to_int_col(df, cols=[\"mother_job\", \"father_job\", \"parental_involvement\", \"internet_access\", \"tutoring\", \"extra_curricular_activities\",\n",
        "                                       \"mother_education\", \"father_education\", \"guardian\", \"school_type\", \"stu_group\", \"location\", \"gender\"])\n",
        "df.sample(5)"
      ],
      "metadata": {
        "colab": {
          "base_uri": "https://localhost:8080/",
          "height": 226
        },
        "id": "dZyciydf8C1K",
        "outputId": "435414fd-aa57-455a-9fe7-0a9644f1241b"
      },
      "execution_count": null,
      "outputs": [
        {
          "output_type": "execute_result",
          "data": {
            "text/plain": [
              "      age  gender  location  family_size  mother_education  father_education  \\\n",
              "2101   16       0         1            6                 1                 6   \n",
              "3952   18       1         2            7                 3                 0   \n",
              "6076   17       1         2            4                 4                 4   \n",
              "3169   18       0         0            5                 7                 0   \n",
              "5700   17       1         2            2                 0                 6   \n",
              "\n",
              "      mother_job  father_job  guardian  parental_involvement  internet_access  \\\n",
              "2101           0           0         1                     1                0   \n",
              "3952           1           1         2                     0                1   \n",
              "6076           0           0         2                     1                1   \n",
              "3169           0           1         0                     1                1   \n",
              "5700           0           0         1                     0                0   \n",
              "\n",
              "      studytime  tutoring  school_type  attendance  \\\n",
              "2101          3         0            2          58   \n",
              "3952          5         0            2          63   \n",
              "6076          3         0            1          68   \n",
              "3169          1         1            1          70   \n",
              "5700          1         0            0          67   \n",
              "\n",
              "      extra_curricular_activities  stu_group  approved  \n",
              "2101                            1          5         0  \n",
              "3952                            1          4         1  \n",
              "6076                            1          5         1  \n",
              "3169                            0          5         0  \n",
              "5700                            0          5         0  "
            ],
            "text/html": [
              "\n",
              "  <div id=\"df-3f064759-b7ca-48af-b356-92325ce57f40\" class=\"colab-df-container\">\n",
              "    <div>\n",
              "<style scoped>\n",
              "    .dataframe tbody tr th:only-of-type {\n",
              "        vertical-align: middle;\n",
              "    }\n",
              "\n",
              "    .dataframe tbody tr th {\n",
              "        vertical-align: top;\n",
              "    }\n",
              "\n",
              "    .dataframe thead th {\n",
              "        text-align: right;\n",
              "    }\n",
              "</style>\n",
              "<table border=\"1\" class=\"dataframe\">\n",
              "  <thead>\n",
              "    <tr style=\"text-align: right;\">\n",
              "      <th></th>\n",
              "      <th>age</th>\n",
              "      <th>gender</th>\n",
              "      <th>location</th>\n",
              "      <th>family_size</th>\n",
              "      <th>mother_education</th>\n",
              "      <th>father_education</th>\n",
              "      <th>mother_job</th>\n",
              "      <th>father_job</th>\n",
              "      <th>guardian</th>\n",
              "      <th>parental_involvement</th>\n",
              "      <th>internet_access</th>\n",
              "      <th>studytime</th>\n",
              "      <th>tutoring</th>\n",
              "      <th>school_type</th>\n",
              "      <th>attendance</th>\n",
              "      <th>extra_curricular_activities</th>\n",
              "      <th>stu_group</th>\n",
              "      <th>approved</th>\n",
              "    </tr>\n",
              "  </thead>\n",
              "  <tbody>\n",
              "    <tr>\n",
              "      <th>2101</th>\n",
              "      <td>16</td>\n",
              "      <td>0</td>\n",
              "      <td>1</td>\n",
              "      <td>6</td>\n",
              "      <td>1</td>\n",
              "      <td>6</td>\n",
              "      <td>0</td>\n",
              "      <td>0</td>\n",
              "      <td>1</td>\n",
              "      <td>1</td>\n",
              "      <td>0</td>\n",
              "      <td>3</td>\n",
              "      <td>0</td>\n",
              "      <td>2</td>\n",
              "      <td>58</td>\n",
              "      <td>1</td>\n",
              "      <td>5</td>\n",
              "      <td>0</td>\n",
              "    </tr>\n",
              "    <tr>\n",
              "      <th>3952</th>\n",
              "      <td>18</td>\n",
              "      <td>1</td>\n",
              "      <td>2</td>\n",
              "      <td>7</td>\n",
              "      <td>3</td>\n",
              "      <td>0</td>\n",
              "      <td>1</td>\n",
              "      <td>1</td>\n",
              "      <td>2</td>\n",
              "      <td>0</td>\n",
              "      <td>1</td>\n",
              "      <td>5</td>\n",
              "      <td>0</td>\n",
              "      <td>2</td>\n",
              "      <td>63</td>\n",
              "      <td>1</td>\n",
              "      <td>4</td>\n",
              "      <td>1</td>\n",
              "    </tr>\n",
              "    <tr>\n",
              "      <th>6076</th>\n",
              "      <td>17</td>\n",
              "      <td>1</td>\n",
              "      <td>2</td>\n",
              "      <td>4</td>\n",
              "      <td>4</td>\n",
              "      <td>4</td>\n",
              "      <td>0</td>\n",
              "      <td>0</td>\n",
              "      <td>2</td>\n",
              "      <td>1</td>\n",
              "      <td>1</td>\n",
              "      <td>3</td>\n",
              "      <td>0</td>\n",
              "      <td>1</td>\n",
              "      <td>68</td>\n",
              "      <td>1</td>\n",
              "      <td>5</td>\n",
              "      <td>1</td>\n",
              "    </tr>\n",
              "    <tr>\n",
              "      <th>3169</th>\n",
              "      <td>18</td>\n",
              "      <td>0</td>\n",
              "      <td>0</td>\n",
              "      <td>5</td>\n",
              "      <td>7</td>\n",
              "      <td>0</td>\n",
              "      <td>0</td>\n",
              "      <td>1</td>\n",
              "      <td>0</td>\n",
              "      <td>1</td>\n",
              "      <td>1</td>\n",
              "      <td>1</td>\n",
              "      <td>1</td>\n",
              "      <td>1</td>\n",
              "      <td>70</td>\n",
              "      <td>0</td>\n",
              "      <td>5</td>\n",
              "      <td>0</td>\n",
              "    </tr>\n",
              "    <tr>\n",
              "      <th>5700</th>\n",
              "      <td>17</td>\n",
              "      <td>1</td>\n",
              "      <td>2</td>\n",
              "      <td>2</td>\n",
              "      <td>0</td>\n",
              "      <td>6</td>\n",
              "      <td>0</td>\n",
              "      <td>0</td>\n",
              "      <td>1</td>\n",
              "      <td>0</td>\n",
              "      <td>0</td>\n",
              "      <td>1</td>\n",
              "      <td>0</td>\n",
              "      <td>0</td>\n",
              "      <td>67</td>\n",
              "      <td>0</td>\n",
              "      <td>5</td>\n",
              "      <td>0</td>\n",
              "    </tr>\n",
              "  </tbody>\n",
              "</table>\n",
              "</div>\n",
              "    <div class=\"colab-df-buttons\">\n",
              "\n",
              "  <div class=\"colab-df-container\">\n",
              "    <button class=\"colab-df-convert\" onclick=\"convertToInteractive('df-3f064759-b7ca-48af-b356-92325ce57f40')\"\n",
              "            title=\"Convert this dataframe to an interactive table.\"\n",
              "            style=\"display:none;\">\n",
              "\n",
              "  <svg xmlns=\"http://www.w3.org/2000/svg\" height=\"24px\" viewBox=\"0 -960 960 960\">\n",
              "    <path d=\"M120-120v-720h720v720H120Zm60-500h600v-160H180v160Zm220 220h160v-160H400v160Zm0 220h160v-160H400v160ZM180-400h160v-160H180v160Zm440 0h160v-160H620v160ZM180-180h160v-160H180v160Zm440 0h160v-160H620v160Z\"/>\n",
              "  </svg>\n",
              "    </button>\n",
              "\n",
              "  <style>\n",
              "    .colab-df-container {\n",
              "      display:flex;\n",
              "      gap: 12px;\n",
              "    }\n",
              "\n",
              "    .colab-df-convert {\n",
              "      background-color: #E8F0FE;\n",
              "      border: none;\n",
              "      border-radius: 50%;\n",
              "      cursor: pointer;\n",
              "      display: none;\n",
              "      fill: #1967D2;\n",
              "      height: 32px;\n",
              "      padding: 0 0 0 0;\n",
              "      width: 32px;\n",
              "    }\n",
              "\n",
              "    .colab-df-convert:hover {\n",
              "      background-color: #E2EBFA;\n",
              "      box-shadow: 0px 1px 2px rgba(60, 64, 67, 0.3), 0px 1px 3px 1px rgba(60, 64, 67, 0.15);\n",
              "      fill: #174EA6;\n",
              "    }\n",
              "\n",
              "    .colab-df-buttons div {\n",
              "      margin-bottom: 4px;\n",
              "    }\n",
              "\n",
              "    [theme=dark] .colab-df-convert {\n",
              "      background-color: #3B4455;\n",
              "      fill: #D2E3FC;\n",
              "    }\n",
              "\n",
              "    [theme=dark] .colab-df-convert:hover {\n",
              "      background-color: #434B5C;\n",
              "      box-shadow: 0px 1px 3px 1px rgba(0, 0, 0, 0.15);\n",
              "      filter: drop-shadow(0px 1px 2px rgba(0, 0, 0, 0.3));\n",
              "      fill: #FFFFFF;\n",
              "    }\n",
              "  </style>\n",
              "\n",
              "    <script>\n",
              "      const buttonEl =\n",
              "        document.querySelector('#df-3f064759-b7ca-48af-b356-92325ce57f40 button.colab-df-convert');\n",
              "      buttonEl.style.display =\n",
              "        google.colab.kernel.accessAllowed ? 'block' : 'none';\n",
              "\n",
              "      async function convertToInteractive(key) {\n",
              "        const element = document.querySelector('#df-3f064759-b7ca-48af-b356-92325ce57f40');\n",
              "        const dataTable =\n",
              "          await google.colab.kernel.invokeFunction('convertToInteractive',\n",
              "                                                    [key], {});\n",
              "        if (!dataTable) return;\n",
              "\n",
              "        const docLinkHtml = 'Like what you see? Visit the ' +\n",
              "          '<a target=\"_blank\" href=https://colab.research.google.com/notebooks/data_table.ipynb>data table notebook</a>'\n",
              "          + ' to learn more about interactive tables.';\n",
              "        element.innerHTML = '';\n",
              "        dataTable['output_type'] = 'display_data';\n",
              "        await google.colab.output.renderOutput(dataTable, element);\n",
              "        const docLink = document.createElement('div');\n",
              "        docLink.innerHTML = docLinkHtml;\n",
              "        element.appendChild(docLink);\n",
              "      }\n",
              "    </script>\n",
              "  </div>\n",
              "\n",
              "\n",
              "<div id=\"df-49a00faa-3391-4b8d-ae43-01fa1242f338\">\n",
              "  <button class=\"colab-df-quickchart\" onclick=\"quickchart('df-49a00faa-3391-4b8d-ae43-01fa1242f338')\"\n",
              "            title=\"Suggest charts\"\n",
              "            style=\"display:none;\">\n",
              "\n",
              "<svg xmlns=\"http://www.w3.org/2000/svg\" height=\"24px\"viewBox=\"0 0 24 24\"\n",
              "     width=\"24px\">\n",
              "    <g>\n",
              "        <path d=\"M19 3H5c-1.1 0-2 .9-2 2v14c0 1.1.9 2 2 2h14c1.1 0 2-.9 2-2V5c0-1.1-.9-2-2-2zM9 17H7v-7h2v7zm4 0h-2V7h2v10zm4 0h-2v-4h2v4z\"/>\n",
              "    </g>\n",
              "</svg>\n",
              "  </button>\n",
              "\n",
              "<style>\n",
              "  .colab-df-quickchart {\n",
              "      --bg-color: #E8F0FE;\n",
              "      --fill-color: #1967D2;\n",
              "      --hover-bg-color: #E2EBFA;\n",
              "      --hover-fill-color: #174EA6;\n",
              "      --disabled-fill-color: #AAA;\n",
              "      --disabled-bg-color: #DDD;\n",
              "  }\n",
              "\n",
              "  [theme=dark] .colab-df-quickchart {\n",
              "      --bg-color: #3B4455;\n",
              "      --fill-color: #D2E3FC;\n",
              "      --hover-bg-color: #434B5C;\n",
              "      --hover-fill-color: #FFFFFF;\n",
              "      --disabled-bg-color: #3B4455;\n",
              "      --disabled-fill-color: #666;\n",
              "  }\n",
              "\n",
              "  .colab-df-quickchart {\n",
              "    background-color: var(--bg-color);\n",
              "    border: none;\n",
              "    border-radius: 50%;\n",
              "    cursor: pointer;\n",
              "    display: none;\n",
              "    fill: var(--fill-color);\n",
              "    height: 32px;\n",
              "    padding: 0;\n",
              "    width: 32px;\n",
              "  }\n",
              "\n",
              "  .colab-df-quickchart:hover {\n",
              "    background-color: var(--hover-bg-color);\n",
              "    box-shadow: 0 1px 2px rgba(60, 64, 67, 0.3), 0 1px 3px 1px rgba(60, 64, 67, 0.15);\n",
              "    fill: var(--button-hover-fill-color);\n",
              "  }\n",
              "\n",
              "  .colab-df-quickchart-complete:disabled,\n",
              "  .colab-df-quickchart-complete:disabled:hover {\n",
              "    background-color: var(--disabled-bg-color);\n",
              "    fill: var(--disabled-fill-color);\n",
              "    box-shadow: none;\n",
              "  }\n",
              "\n",
              "  .colab-df-spinner {\n",
              "    border: 2px solid var(--fill-color);\n",
              "    border-color: transparent;\n",
              "    border-bottom-color: var(--fill-color);\n",
              "    animation:\n",
              "      spin 1s steps(1) infinite;\n",
              "  }\n",
              "\n",
              "  @keyframes spin {\n",
              "    0% {\n",
              "      border-color: transparent;\n",
              "      border-bottom-color: var(--fill-color);\n",
              "      border-left-color: var(--fill-color);\n",
              "    }\n",
              "    20% {\n",
              "      border-color: transparent;\n",
              "      border-left-color: var(--fill-color);\n",
              "      border-top-color: var(--fill-color);\n",
              "    }\n",
              "    30% {\n",
              "      border-color: transparent;\n",
              "      border-left-color: var(--fill-color);\n",
              "      border-top-color: var(--fill-color);\n",
              "      border-right-color: var(--fill-color);\n",
              "    }\n",
              "    40% {\n",
              "      border-color: transparent;\n",
              "      border-right-color: var(--fill-color);\n",
              "      border-top-color: var(--fill-color);\n",
              "    }\n",
              "    60% {\n",
              "      border-color: transparent;\n",
              "      border-right-color: var(--fill-color);\n",
              "    }\n",
              "    80% {\n",
              "      border-color: transparent;\n",
              "      border-right-color: var(--fill-color);\n",
              "      border-bottom-color: var(--fill-color);\n",
              "    }\n",
              "    90% {\n",
              "      border-color: transparent;\n",
              "      border-bottom-color: var(--fill-color);\n",
              "    }\n",
              "  }\n",
              "</style>\n",
              "\n",
              "  <script>\n",
              "    async function quickchart(key) {\n",
              "      const quickchartButtonEl =\n",
              "        document.querySelector('#' + key + ' button');\n",
              "      quickchartButtonEl.disabled = true;  // To prevent multiple clicks.\n",
              "      quickchartButtonEl.classList.add('colab-df-spinner');\n",
              "      try {\n",
              "        const charts = await google.colab.kernel.invokeFunction(\n",
              "            'suggestCharts', [key], {});\n",
              "      } catch (error) {\n",
              "        console.error('Error during call to suggestCharts:', error);\n",
              "      }\n",
              "      quickchartButtonEl.classList.remove('colab-df-spinner');\n",
              "      quickchartButtonEl.classList.add('colab-df-quickchart-complete');\n",
              "    }\n",
              "    (() => {\n",
              "      let quickchartButtonEl =\n",
              "        document.querySelector('#df-49a00faa-3391-4b8d-ae43-01fa1242f338 button');\n",
              "      quickchartButtonEl.style.display =\n",
              "        google.colab.kernel.accessAllowed ? 'block' : 'none';\n",
              "    })();\n",
              "  </script>\n",
              "</div>\n",
              "\n",
              "    </div>\n",
              "  </div>\n"
            ],
            "application/vnd.google.colaboratory.intrinsic+json": {
              "type": "dataframe",
              "summary": "{\n  \"name\": \"df\",\n  \"rows\": 5,\n  \"fields\": [\n    {\n      \"column\": \"age\",\n      \"properties\": {\n        \"dtype\": \"number\",\n        \"std\": 0,\n        \"min\": 16,\n        \"max\": 18,\n        \"num_unique_values\": 3,\n        \"samples\": [\n          16,\n          18,\n          17\n        ],\n        \"semantic_type\": \"\",\n        \"description\": \"\"\n      }\n    },\n    {\n      \"column\": \"gender\",\n      \"properties\": {\n        \"dtype\": \"number\",\n        \"std\": 0,\n        \"min\": 0,\n        \"max\": 1,\n        \"num_unique_values\": 2,\n        \"samples\": [\n          1,\n          0\n        ],\n        \"semantic_type\": \"\",\n        \"description\": \"\"\n      }\n    },\n    {\n      \"column\": \"location\",\n      \"properties\": {\n        \"dtype\": \"number\",\n        \"std\": 0,\n        \"min\": 0,\n        \"max\": 2,\n        \"num_unique_values\": 3,\n        \"samples\": [\n          1,\n          2\n        ],\n        \"semantic_type\": \"\",\n        \"description\": \"\"\n      }\n    },\n    {\n      \"column\": \"family_size\",\n      \"properties\": {\n        \"dtype\": \"number\",\n        \"std\": 1,\n        \"min\": 2,\n        \"max\": 7,\n        \"num_unique_values\": 5,\n        \"samples\": [\n          7,\n          2\n        ],\n        \"semantic_type\": \"\",\n        \"description\": \"\"\n      }\n    },\n    {\n      \"column\": \"mother_education\",\n      \"properties\": {\n        \"dtype\": \"number\",\n        \"std\": 2,\n        \"min\": 0,\n        \"max\": 7,\n        \"num_unique_values\": 5,\n        \"samples\": [\n          3,\n          0\n        ],\n        \"semantic_type\": \"\",\n        \"description\": \"\"\n      }\n    },\n    {\n      \"column\": \"father_education\",\n      \"properties\": {\n        \"dtype\": \"number\",\n        \"std\": 3,\n        \"min\": 0,\n        \"max\": 6,\n        \"num_unique_values\": 3,\n        \"samples\": [\n          6,\n          0\n        ],\n        \"semantic_type\": \"\",\n        \"description\": \"\"\n      }\n    },\n    {\n      \"column\": \"mother_job\",\n      \"properties\": {\n        \"dtype\": \"number\",\n        \"std\": 0,\n        \"min\": 0,\n        \"max\": 1,\n        \"num_unique_values\": 2,\n        \"samples\": [\n          1,\n          0\n        ],\n        \"semantic_type\": \"\",\n        \"description\": \"\"\n      }\n    },\n    {\n      \"column\": \"father_job\",\n      \"properties\": {\n        \"dtype\": \"number\",\n        \"std\": 0,\n        \"min\": 0,\n        \"max\": 1,\n        \"num_unique_values\": 2,\n        \"samples\": [\n          1,\n          0\n        ],\n        \"semantic_type\": \"\",\n        \"description\": \"\"\n      }\n    },\n    {\n      \"column\": \"guardian\",\n      \"properties\": {\n        \"dtype\": \"number\",\n        \"std\": 0,\n        \"min\": 0,\n        \"max\": 2,\n        \"num_unique_values\": 3,\n        \"samples\": [\n          1,\n          2\n        ],\n        \"semantic_type\": \"\",\n        \"description\": \"\"\n      }\n    },\n    {\n      \"column\": \"parental_involvement\",\n      \"properties\": {\n        \"dtype\": \"number\",\n        \"std\": 0,\n        \"min\": 0,\n        \"max\": 1,\n        \"num_unique_values\": 2,\n        \"samples\": [\n          0,\n          1\n        ],\n        \"semantic_type\": \"\",\n        \"description\": \"\"\n      }\n    },\n    {\n      \"column\": \"internet_access\",\n      \"properties\": {\n        \"dtype\": \"number\",\n        \"std\": 0,\n        \"min\": 0,\n        \"max\": 1,\n        \"num_unique_values\": 2,\n        \"samples\": [\n          1,\n          0\n        ],\n        \"semantic_type\": \"\",\n        \"description\": \"\"\n      }\n    },\n    {\n      \"column\": \"studytime\",\n      \"properties\": {\n        \"dtype\": \"number\",\n        \"std\": 1,\n        \"min\": 1,\n        \"max\": 5,\n        \"num_unique_values\": 3,\n        \"samples\": [\n          3,\n          5\n        ],\n        \"semantic_type\": \"\",\n        \"description\": \"\"\n      }\n    },\n    {\n      \"column\": \"tutoring\",\n      \"properties\": {\n        \"dtype\": \"number\",\n        \"std\": 0,\n        \"min\": 0,\n        \"max\": 1,\n        \"num_unique_values\": 2,\n        \"samples\": [\n          1,\n          0\n        ],\n        \"semantic_type\": \"\",\n        \"description\": \"\"\n      }\n    },\n    {\n      \"column\": \"school_type\",\n      \"properties\": {\n        \"dtype\": \"number\",\n        \"std\": 0,\n        \"min\": 0,\n        \"max\": 2,\n        \"num_unique_values\": 3,\n        \"samples\": [\n          2,\n          1\n        ],\n        \"semantic_type\": \"\",\n        \"description\": \"\"\n      }\n    },\n    {\n      \"column\": \"attendance\",\n      \"properties\": {\n        \"dtype\": \"number\",\n        \"std\": 4,\n        \"min\": 58,\n        \"max\": 70,\n        \"num_unique_values\": 5,\n        \"samples\": [\n          63,\n          67\n        ],\n        \"semantic_type\": \"\",\n        \"description\": \"\"\n      }\n    },\n    {\n      \"column\": \"extra_curricular_activities\",\n      \"properties\": {\n        \"dtype\": \"number\",\n        \"std\": 0,\n        \"min\": 0,\n        \"max\": 1,\n        \"num_unique_values\": 2,\n        \"samples\": [\n          0,\n          1\n        ],\n        \"semantic_type\": \"\",\n        \"description\": \"\"\n      }\n    },\n    {\n      \"column\": \"stu_group\",\n      \"properties\": {\n        \"dtype\": \"number\",\n        \"std\": 0,\n        \"min\": 4,\n        \"max\": 5,\n        \"num_unique_values\": 2,\n        \"samples\": [\n          4,\n          5\n        ],\n        \"semantic_type\": \"\",\n        \"description\": \"\"\n      }\n    },\n    {\n      \"column\": \"approved\",\n      \"properties\": {\n        \"dtype\": \"number\",\n        \"std\": 0,\n        \"min\": 0,\n        \"max\": 1,\n        \"num_unique_values\": 2,\n        \"samples\": [\n          1,\n          0\n        ],\n        \"semantic_type\": \"\",\n        \"description\": \"\"\n      }\n    }\n  ]\n}"
            }
          },
          "metadata": {},
          "execution_count": 10
        }
      ]
    },
    {
      "cell_type": "markdown",
      "source": [
        "## 2.2) Entrenamiento del modelo"
      ],
      "metadata": {
        "id": "yJmz0RO94wZA"
      }
    },
    {
      "cell_type": "code",
      "source": [
        "total_rows= df.shape[0]\n",
        "pctg_training = 70\n",
        "\n",
        "train_size = int(pctg_training/100*total_rows)\n",
        "\n",
        "df = df.sample(frac=1) #shuffle\n",
        "\n",
        "training = df[:train_size]\n",
        "testing = df[train_size:]\n",
        "\n",
        "X_train = training.drop(columns=[\"approved\"])\n",
        "Y_train = training[\"approved\"]\n",
        "\n",
        "X_test = testing.drop(columns=[\"approved\"])\n",
        "Y_test = testing[\"approved\"]"
      ],
      "metadata": {
        "id": "v1bEAq9suTdV"
      },
      "execution_count": null,
      "outputs": []
    },
    {
      "cell_type": "markdown",
      "source": [
        "### Decision tree"
      ],
      "metadata": {
        "id": "o4SWlXW15vBA"
      }
    },
    {
      "cell_type": "code",
      "source": [
        "from sklearn import tree\n",
        "\n",
        "clf = tree.DecisionTreeClassifier()\n",
        "clf = clf.fit(X_train, Y_train)"
      ],
      "metadata": {
        "id": "52W2Z29k5JZ2"
      },
      "execution_count": null,
      "outputs": []
    },
    {
      "cell_type": "code",
      "source": [
        "row = df.sample(1)\n",
        "expected = int(row[\"approved\"])\n",
        "predicted = int(clf.predict(row.drop(columns=[\"approved\"])))\n",
        "print(f\"Expected: { expected }\")\n",
        "print(f\"Predicted: { predicted }\")"
      ],
      "metadata": {
        "colab": {
          "base_uri": "https://localhost:8080/"
        },
        "id": "ZSzdw1OJGJMx",
        "outputId": "c71027a2-b6b5-4886-d341-3be35a9ab7bf"
      },
      "execution_count": null,
      "outputs": [
        {
          "output_type": "stream",
          "name": "stdout",
          "text": [
            "Expected: 1\n",
            "Predicted: 1\n"
          ]
        },
        {
          "output_type": "stream",
          "name": "stderr",
          "text": [
            "<ipython-input-13-eef0485560cf>:2: FutureWarning: Calling int on a single element Series is deprecated and will raise a TypeError in the future. Use int(ser.iloc[0]) instead\n",
            "  expected = int(row[\"approved\"])\n",
            "<ipython-input-13-eef0485560cf>:3: DeprecationWarning: Conversion of an array with ndim > 0 to a scalar is deprecated, and will error in future. Ensure you extract a single element from your array before performing this operation. (Deprecated NumPy 1.25.)\n",
            "  predicted = int(clf.predict(row.drop(columns=[\"approved\"])))\n"
          ]
        }
      ]
    },
    {
      "cell_type": "code",
      "source": [
        "from sklearn.metrics import precision_score, f1_score\n",
        "\n",
        "# Calculamos la precisión y el f1 score\n",
        "\n",
        "y_true = Y_test\n",
        "y_pred_t = clf.predict(X_test)\n",
        "\n",
        "precision = precision_score(y_true, y_pred_t, average='macro')\n",
        "f1_score = f1_score(y_true, y_pred_t, average='macro')\n",
        "print(f\"Precision score: {precision} \\nF1 score: {f1_score}\")"
      ],
      "metadata": {
        "colab": {
          "base_uri": "https://localhost:8080/"
        },
        "id": "Xl4IptXdL6dI",
        "outputId": "5894698a-20df-4a8a-cde7-e410a198c770"
      },
      "execution_count": null,
      "outputs": [
        {
          "output_type": "stream",
          "name": "stdout",
          "text": [
            "Precision score: 0.8500462439347214 \n",
            "F1 score: 0.8374024871780166\n"
          ]
        }
      ]
    },
    {
      "cell_type": "markdown",
      "source": [
        "### Logistic regresion"
      ],
      "metadata": {
        "id": "_d3aJnuMGF2a"
      }
    },
    {
      "cell_type": "code",
      "source": [
        "from sklearn.linear_model import LogisticRegression\n",
        "\n",
        "clf = LogisticRegression(random_state=0, max_iter=1000).fit(X_train, Y_train)"
      ],
      "metadata": {
        "id": "Z3PlK7mdIC2X"
      },
      "execution_count": null,
      "outputs": []
    },
    {
      "cell_type": "code",
      "source": [
        "row = df.sample(1)\n",
        "expected = int(row[\"approved\"])\n",
        "predicted = int(clf.predict(row.drop(columns=[\"approved\"])))\n",
        "print(f\"Expected: { expected }\")\n",
        "print(f\"Predicted: { predicted }\")"
      ],
      "metadata": {
        "colab": {
          "base_uri": "https://localhost:8080/"
        },
        "id": "1M4p3XrEIWCV",
        "outputId": "5dbffd59-90f8-4a0e-b31a-18e226b245fb"
      },
      "execution_count": null,
      "outputs": [
        {
          "output_type": "stream",
          "name": "stdout",
          "text": [
            "Expected: 0\n",
            "Predicted: 0\n"
          ]
        },
        {
          "output_type": "stream",
          "name": "stderr",
          "text": [
            "<ipython-input-16-eef0485560cf>:2: FutureWarning: Calling int on a single element Series is deprecated and will raise a TypeError in the future. Use int(ser.iloc[0]) instead\n",
            "  expected = int(row[\"approved\"])\n",
            "<ipython-input-16-eef0485560cf>:3: DeprecationWarning: Conversion of an array with ndim > 0 to a scalar is deprecated, and will error in future. Ensure you extract a single element from your array before performing this operation. (Deprecated NumPy 1.25.)\n",
            "  predicted = int(clf.predict(row.drop(columns=[\"approved\"])))\n"
          ]
        }
      ]
    },
    {
      "cell_type": "code",
      "source": [
        "from sklearn.metrics import precision_score, f1_score\n",
        "\n",
        "# Calculamos la precisión y el f1 score\n",
        "\n",
        "y_true = Y_test\n",
        "y_pred_lr = clf.predict(X_test)\n",
        "\n",
        "precision = precision_score(y_true, y_pred_lr, average='macro')\n",
        "f1_score = f1_score(y_true, y_pred_lr, average='macro')\n",
        "print(f\"Precision score: {precision} \\nF1 score: {f1_score}\")"
      ],
      "metadata": {
        "colab": {
          "base_uri": "https://localhost:8080/"
        },
        "id": "-o3WhL72NEJK",
        "outputId": "43682ec5-401b-459b-db6c-91693e41880c"
      },
      "execution_count": null,
      "outputs": [
        {
          "output_type": "stream",
          "name": "stdout",
          "text": [
            "Precision score: 0.8746570091709323 \n",
            "F1 score: 0.8981256512545421\n"
          ]
        }
      ]
    },
    {
      "cell_type": "markdown",
      "source": [
        "### Support Vector Machines"
      ],
      "metadata": {
        "id": "6G45vbodKf3G"
      }
    },
    {
      "cell_type": "code",
      "source": [
        "from sklearn import svm\n",
        "\n",
        "clf = svm.SVC()\n",
        "clf.fit(X_train, Y_train)"
      ],
      "metadata": {
        "colab": {
          "base_uri": "https://localhost:8080/",
          "height": 80
        },
        "id": "YJj9HHdcKnOJ",
        "outputId": "7e1292f7-56ad-4083-9723-9d1ec98381d1"
      },
      "execution_count": null,
      "outputs": [
        {
          "output_type": "execute_result",
          "data": {
            "text/plain": [
              "SVC()"
            ],
            "text/html": [
              "<style>#sk-container-id-1 {\n",
              "  /* Definition of color scheme common for light and dark mode */\n",
              "  --sklearn-color-text: black;\n",
              "  --sklearn-color-line: gray;\n",
              "  /* Definition of color scheme for unfitted estimators */\n",
              "  --sklearn-color-unfitted-level-0: #fff5e6;\n",
              "  --sklearn-color-unfitted-level-1: #f6e4d2;\n",
              "  --sklearn-color-unfitted-level-2: #ffe0b3;\n",
              "  --sklearn-color-unfitted-level-3: chocolate;\n",
              "  /* Definition of color scheme for fitted estimators */\n",
              "  --sklearn-color-fitted-level-0: #f0f8ff;\n",
              "  --sklearn-color-fitted-level-1: #d4ebff;\n",
              "  --sklearn-color-fitted-level-2: #b3dbfd;\n",
              "  --sklearn-color-fitted-level-3: cornflowerblue;\n",
              "\n",
              "  /* Specific color for light theme */\n",
              "  --sklearn-color-text-on-default-background: var(--sg-text-color, var(--theme-code-foreground, var(--jp-content-font-color1, black)));\n",
              "  --sklearn-color-background: var(--sg-background-color, var(--theme-background, var(--jp-layout-color0, white)));\n",
              "  --sklearn-color-border-box: var(--sg-text-color, var(--theme-code-foreground, var(--jp-content-font-color1, black)));\n",
              "  --sklearn-color-icon: #696969;\n",
              "\n",
              "  @media (prefers-color-scheme: dark) {\n",
              "    /* Redefinition of color scheme for dark theme */\n",
              "    --sklearn-color-text-on-default-background: var(--sg-text-color, var(--theme-code-foreground, var(--jp-content-font-color1, white)));\n",
              "    --sklearn-color-background: var(--sg-background-color, var(--theme-background, var(--jp-layout-color0, #111)));\n",
              "    --sklearn-color-border-box: var(--sg-text-color, var(--theme-code-foreground, var(--jp-content-font-color1, white)));\n",
              "    --sklearn-color-icon: #878787;\n",
              "  }\n",
              "}\n",
              "\n",
              "#sk-container-id-1 {\n",
              "  color: var(--sklearn-color-text);\n",
              "}\n",
              "\n",
              "#sk-container-id-1 pre {\n",
              "  padding: 0;\n",
              "}\n",
              "\n",
              "#sk-container-id-1 input.sk-hidden--visually {\n",
              "  border: 0;\n",
              "  clip: rect(1px 1px 1px 1px);\n",
              "  clip: rect(1px, 1px, 1px, 1px);\n",
              "  height: 1px;\n",
              "  margin: -1px;\n",
              "  overflow: hidden;\n",
              "  padding: 0;\n",
              "  position: absolute;\n",
              "  width: 1px;\n",
              "}\n",
              "\n",
              "#sk-container-id-1 div.sk-dashed-wrapped {\n",
              "  border: 1px dashed var(--sklearn-color-line);\n",
              "  margin: 0 0.4em 0.5em 0.4em;\n",
              "  box-sizing: border-box;\n",
              "  padding-bottom: 0.4em;\n",
              "  background-color: var(--sklearn-color-background);\n",
              "}\n",
              "\n",
              "#sk-container-id-1 div.sk-container {\n",
              "  /* jupyter's `normalize.less` sets `[hidden] { display: none; }`\n",
              "     but bootstrap.min.css set `[hidden] { display: none !important; }`\n",
              "     so we also need the `!important` here to be able to override the\n",
              "     default hidden behavior on the sphinx rendered scikit-learn.org.\n",
              "     See: https://github.com/scikit-learn/scikit-learn/issues/21755 */\n",
              "  display: inline-block !important;\n",
              "  position: relative;\n",
              "}\n",
              "\n",
              "#sk-container-id-1 div.sk-text-repr-fallback {\n",
              "  display: none;\n",
              "}\n",
              "\n",
              "div.sk-parallel-item,\n",
              "div.sk-serial,\n",
              "div.sk-item {\n",
              "  /* draw centered vertical line to link estimators */\n",
              "  background-image: linear-gradient(var(--sklearn-color-text-on-default-background), var(--sklearn-color-text-on-default-background));\n",
              "  background-size: 2px 100%;\n",
              "  background-repeat: no-repeat;\n",
              "  background-position: center center;\n",
              "}\n",
              "\n",
              "/* Parallel-specific style estimator block */\n",
              "\n",
              "#sk-container-id-1 div.sk-parallel-item::after {\n",
              "  content: \"\";\n",
              "  width: 100%;\n",
              "  border-bottom: 2px solid var(--sklearn-color-text-on-default-background);\n",
              "  flex-grow: 1;\n",
              "}\n",
              "\n",
              "#sk-container-id-1 div.sk-parallel {\n",
              "  display: flex;\n",
              "  align-items: stretch;\n",
              "  justify-content: center;\n",
              "  background-color: var(--sklearn-color-background);\n",
              "  position: relative;\n",
              "}\n",
              "\n",
              "#sk-container-id-1 div.sk-parallel-item {\n",
              "  display: flex;\n",
              "  flex-direction: column;\n",
              "}\n",
              "\n",
              "#sk-container-id-1 div.sk-parallel-item:first-child::after {\n",
              "  align-self: flex-end;\n",
              "  width: 50%;\n",
              "}\n",
              "\n",
              "#sk-container-id-1 div.sk-parallel-item:last-child::after {\n",
              "  align-self: flex-start;\n",
              "  width: 50%;\n",
              "}\n",
              "\n",
              "#sk-container-id-1 div.sk-parallel-item:only-child::after {\n",
              "  width: 0;\n",
              "}\n",
              "\n",
              "/* Serial-specific style estimator block */\n",
              "\n",
              "#sk-container-id-1 div.sk-serial {\n",
              "  display: flex;\n",
              "  flex-direction: column;\n",
              "  align-items: center;\n",
              "  background-color: var(--sklearn-color-background);\n",
              "  padding-right: 1em;\n",
              "  padding-left: 1em;\n",
              "}\n",
              "\n",
              "\n",
              "/* Toggleable style: style used for estimator/Pipeline/ColumnTransformer box that is\n",
              "clickable and can be expanded/collapsed.\n",
              "- Pipeline and ColumnTransformer use this feature and define the default style\n",
              "- Estimators will overwrite some part of the style using the `sk-estimator` class\n",
              "*/\n",
              "\n",
              "/* Pipeline and ColumnTransformer style (default) */\n",
              "\n",
              "#sk-container-id-1 div.sk-toggleable {\n",
              "  /* Default theme specific background. It is overwritten whether we have a\n",
              "  specific estimator or a Pipeline/ColumnTransformer */\n",
              "  background-color: var(--sklearn-color-background);\n",
              "}\n",
              "\n",
              "/* Toggleable label */\n",
              "#sk-container-id-1 label.sk-toggleable__label {\n",
              "  cursor: pointer;\n",
              "  display: block;\n",
              "  width: 100%;\n",
              "  margin-bottom: 0;\n",
              "  padding: 0.5em;\n",
              "  box-sizing: border-box;\n",
              "  text-align: center;\n",
              "}\n",
              "\n",
              "#sk-container-id-1 label.sk-toggleable__label-arrow:before {\n",
              "  /* Arrow on the left of the label */\n",
              "  content: \"▸\";\n",
              "  float: left;\n",
              "  margin-right: 0.25em;\n",
              "  color: var(--sklearn-color-icon);\n",
              "}\n",
              "\n",
              "#sk-container-id-1 label.sk-toggleable__label-arrow:hover:before {\n",
              "  color: var(--sklearn-color-text);\n",
              "}\n",
              "\n",
              "/* Toggleable content - dropdown */\n",
              "\n",
              "#sk-container-id-1 div.sk-toggleable__content {\n",
              "  max-height: 0;\n",
              "  max-width: 0;\n",
              "  overflow: hidden;\n",
              "  text-align: left;\n",
              "  /* unfitted */\n",
              "  background-color: var(--sklearn-color-unfitted-level-0);\n",
              "}\n",
              "\n",
              "#sk-container-id-1 div.sk-toggleable__content.fitted {\n",
              "  /* fitted */\n",
              "  background-color: var(--sklearn-color-fitted-level-0);\n",
              "}\n",
              "\n",
              "#sk-container-id-1 div.sk-toggleable__content pre {\n",
              "  margin: 0.2em;\n",
              "  border-radius: 0.25em;\n",
              "  color: var(--sklearn-color-text);\n",
              "  /* unfitted */\n",
              "  background-color: var(--sklearn-color-unfitted-level-0);\n",
              "}\n",
              "\n",
              "#sk-container-id-1 div.sk-toggleable__content.fitted pre {\n",
              "  /* unfitted */\n",
              "  background-color: var(--sklearn-color-fitted-level-0);\n",
              "}\n",
              "\n",
              "#sk-container-id-1 input.sk-toggleable__control:checked~div.sk-toggleable__content {\n",
              "  /* Expand drop-down */\n",
              "  max-height: 200px;\n",
              "  max-width: 100%;\n",
              "  overflow: auto;\n",
              "}\n",
              "\n",
              "#sk-container-id-1 input.sk-toggleable__control:checked~label.sk-toggleable__label-arrow:before {\n",
              "  content: \"▾\";\n",
              "}\n",
              "\n",
              "/* Pipeline/ColumnTransformer-specific style */\n",
              "\n",
              "#sk-container-id-1 div.sk-label input.sk-toggleable__control:checked~label.sk-toggleable__label {\n",
              "  color: var(--sklearn-color-text);\n",
              "  background-color: var(--sklearn-color-unfitted-level-2);\n",
              "}\n",
              "\n",
              "#sk-container-id-1 div.sk-label.fitted input.sk-toggleable__control:checked~label.sk-toggleable__label {\n",
              "  background-color: var(--sklearn-color-fitted-level-2);\n",
              "}\n",
              "\n",
              "/* Estimator-specific style */\n",
              "\n",
              "/* Colorize estimator box */\n",
              "#sk-container-id-1 div.sk-estimator input.sk-toggleable__control:checked~label.sk-toggleable__label {\n",
              "  /* unfitted */\n",
              "  background-color: var(--sklearn-color-unfitted-level-2);\n",
              "}\n",
              "\n",
              "#sk-container-id-1 div.sk-estimator.fitted input.sk-toggleable__control:checked~label.sk-toggleable__label {\n",
              "  /* fitted */\n",
              "  background-color: var(--sklearn-color-fitted-level-2);\n",
              "}\n",
              "\n",
              "#sk-container-id-1 div.sk-label label.sk-toggleable__label,\n",
              "#sk-container-id-1 div.sk-label label {\n",
              "  /* The background is the default theme color */\n",
              "  color: var(--sklearn-color-text-on-default-background);\n",
              "}\n",
              "\n",
              "/* On hover, darken the color of the background */\n",
              "#sk-container-id-1 div.sk-label:hover label.sk-toggleable__label {\n",
              "  color: var(--sklearn-color-text);\n",
              "  background-color: var(--sklearn-color-unfitted-level-2);\n",
              "}\n",
              "\n",
              "/* Label box, darken color on hover, fitted */\n",
              "#sk-container-id-1 div.sk-label.fitted:hover label.sk-toggleable__label.fitted {\n",
              "  color: var(--sklearn-color-text);\n",
              "  background-color: var(--sklearn-color-fitted-level-2);\n",
              "}\n",
              "\n",
              "/* Estimator label */\n",
              "\n",
              "#sk-container-id-1 div.sk-label label {\n",
              "  font-family: monospace;\n",
              "  font-weight: bold;\n",
              "  display: inline-block;\n",
              "  line-height: 1.2em;\n",
              "}\n",
              "\n",
              "#sk-container-id-1 div.sk-label-container {\n",
              "  text-align: center;\n",
              "}\n",
              "\n",
              "/* Estimator-specific */\n",
              "#sk-container-id-1 div.sk-estimator {\n",
              "  font-family: monospace;\n",
              "  border: 1px dotted var(--sklearn-color-border-box);\n",
              "  border-radius: 0.25em;\n",
              "  box-sizing: border-box;\n",
              "  margin-bottom: 0.5em;\n",
              "  /* unfitted */\n",
              "  background-color: var(--sklearn-color-unfitted-level-0);\n",
              "}\n",
              "\n",
              "#sk-container-id-1 div.sk-estimator.fitted {\n",
              "  /* fitted */\n",
              "  background-color: var(--sklearn-color-fitted-level-0);\n",
              "}\n",
              "\n",
              "/* on hover */\n",
              "#sk-container-id-1 div.sk-estimator:hover {\n",
              "  /* unfitted */\n",
              "  background-color: var(--sklearn-color-unfitted-level-2);\n",
              "}\n",
              "\n",
              "#sk-container-id-1 div.sk-estimator.fitted:hover {\n",
              "  /* fitted */\n",
              "  background-color: var(--sklearn-color-fitted-level-2);\n",
              "}\n",
              "\n",
              "/* Specification for estimator info (e.g. \"i\" and \"?\") */\n",
              "\n",
              "/* Common style for \"i\" and \"?\" */\n",
              "\n",
              ".sk-estimator-doc-link,\n",
              "a:link.sk-estimator-doc-link,\n",
              "a:visited.sk-estimator-doc-link {\n",
              "  float: right;\n",
              "  font-size: smaller;\n",
              "  line-height: 1em;\n",
              "  font-family: monospace;\n",
              "  background-color: var(--sklearn-color-background);\n",
              "  border-radius: 1em;\n",
              "  height: 1em;\n",
              "  width: 1em;\n",
              "  text-decoration: none !important;\n",
              "  margin-left: 1ex;\n",
              "  /* unfitted */\n",
              "  border: var(--sklearn-color-unfitted-level-1) 1pt solid;\n",
              "  color: var(--sklearn-color-unfitted-level-1);\n",
              "}\n",
              "\n",
              ".sk-estimator-doc-link.fitted,\n",
              "a:link.sk-estimator-doc-link.fitted,\n",
              "a:visited.sk-estimator-doc-link.fitted {\n",
              "  /* fitted */\n",
              "  border: var(--sklearn-color-fitted-level-1) 1pt solid;\n",
              "  color: var(--sklearn-color-fitted-level-1);\n",
              "}\n",
              "\n",
              "/* On hover */\n",
              "div.sk-estimator:hover .sk-estimator-doc-link:hover,\n",
              ".sk-estimator-doc-link:hover,\n",
              "div.sk-label-container:hover .sk-estimator-doc-link:hover,\n",
              ".sk-estimator-doc-link:hover {\n",
              "  /* unfitted */\n",
              "  background-color: var(--sklearn-color-unfitted-level-3);\n",
              "  color: var(--sklearn-color-background);\n",
              "  text-decoration: none;\n",
              "}\n",
              "\n",
              "div.sk-estimator.fitted:hover .sk-estimator-doc-link.fitted:hover,\n",
              ".sk-estimator-doc-link.fitted:hover,\n",
              "div.sk-label-container:hover .sk-estimator-doc-link.fitted:hover,\n",
              ".sk-estimator-doc-link.fitted:hover {\n",
              "  /* fitted */\n",
              "  background-color: var(--sklearn-color-fitted-level-3);\n",
              "  color: var(--sklearn-color-background);\n",
              "  text-decoration: none;\n",
              "}\n",
              "\n",
              "/* Span, style for the box shown on hovering the info icon */\n",
              ".sk-estimator-doc-link span {\n",
              "  display: none;\n",
              "  z-index: 9999;\n",
              "  position: relative;\n",
              "  font-weight: normal;\n",
              "  right: .2ex;\n",
              "  padding: .5ex;\n",
              "  margin: .5ex;\n",
              "  width: min-content;\n",
              "  min-width: 20ex;\n",
              "  max-width: 50ex;\n",
              "  color: var(--sklearn-color-text);\n",
              "  box-shadow: 2pt 2pt 4pt #999;\n",
              "  /* unfitted */\n",
              "  background: var(--sklearn-color-unfitted-level-0);\n",
              "  border: .5pt solid var(--sklearn-color-unfitted-level-3);\n",
              "}\n",
              "\n",
              ".sk-estimator-doc-link.fitted span {\n",
              "  /* fitted */\n",
              "  background: var(--sklearn-color-fitted-level-0);\n",
              "  border: var(--sklearn-color-fitted-level-3);\n",
              "}\n",
              "\n",
              ".sk-estimator-doc-link:hover span {\n",
              "  display: block;\n",
              "}\n",
              "\n",
              "/* \"?\"-specific style due to the `<a>` HTML tag */\n",
              "\n",
              "#sk-container-id-1 a.estimator_doc_link {\n",
              "  float: right;\n",
              "  font-size: 1rem;\n",
              "  line-height: 1em;\n",
              "  font-family: monospace;\n",
              "  background-color: var(--sklearn-color-background);\n",
              "  border-radius: 1rem;\n",
              "  height: 1rem;\n",
              "  width: 1rem;\n",
              "  text-decoration: none;\n",
              "  /* unfitted */\n",
              "  color: var(--sklearn-color-unfitted-level-1);\n",
              "  border: var(--sklearn-color-unfitted-level-1) 1pt solid;\n",
              "}\n",
              "\n",
              "#sk-container-id-1 a.estimator_doc_link.fitted {\n",
              "  /* fitted */\n",
              "  border: var(--sklearn-color-fitted-level-1) 1pt solid;\n",
              "  color: var(--sklearn-color-fitted-level-1);\n",
              "}\n",
              "\n",
              "/* On hover */\n",
              "#sk-container-id-1 a.estimator_doc_link:hover {\n",
              "  /* unfitted */\n",
              "  background-color: var(--sklearn-color-unfitted-level-3);\n",
              "  color: var(--sklearn-color-background);\n",
              "  text-decoration: none;\n",
              "}\n",
              "\n",
              "#sk-container-id-1 a.estimator_doc_link.fitted:hover {\n",
              "  /* fitted */\n",
              "  background-color: var(--sklearn-color-fitted-level-3);\n",
              "}\n",
              "</style><div id=\"sk-container-id-1\" class=\"sk-top-container\"><div class=\"sk-text-repr-fallback\"><pre>SVC()</pre><b>In a Jupyter environment, please rerun this cell to show the HTML representation or trust the notebook. <br />On GitHub, the HTML representation is unable to render, please try loading this page with nbviewer.org.</b></div><div class=\"sk-container\" hidden><div class=\"sk-item\"><div class=\"sk-estimator fitted sk-toggleable\"><input class=\"sk-toggleable__control sk-hidden--visually\" id=\"sk-estimator-id-1\" type=\"checkbox\" checked><label for=\"sk-estimator-id-1\" class=\"sk-toggleable__label fitted sk-toggleable__label-arrow fitted\">&nbsp;&nbsp;SVC<a class=\"sk-estimator-doc-link fitted\" rel=\"noreferrer\" target=\"_blank\" href=\"https://scikit-learn.org/1.5/modules/generated/sklearn.svm.SVC.html\">?<span>Documentation for SVC</span></a><span class=\"sk-estimator-doc-link fitted\">i<span>Fitted</span></span></label><div class=\"sk-toggleable__content fitted\"><pre>SVC()</pre></div> </div></div></div></div>"
            ]
          },
          "metadata": {},
          "execution_count": 18
        }
      ]
    },
    {
      "cell_type": "code",
      "source": [
        "row = df.sample(1)\n",
        "expected = int(row[\"approved\"])\n",
        "predicted = int(clf.predict(row.drop(columns=[\"approved\"])))\n",
        "print(f\"Expected: { expected }\")\n",
        "print(f\"Predicted: { predicted }\")"
      ],
      "metadata": {
        "colab": {
          "base_uri": "https://localhost:8080/"
        },
        "id": "Fri8wbtTKskB",
        "outputId": "c3845c85-3db6-49f4-e904-186bde660a07"
      },
      "execution_count": null,
      "outputs": [
        {
          "output_type": "stream",
          "name": "stdout",
          "text": [
            "Expected: 1\n",
            "Predicted: 1\n"
          ]
        },
        {
          "output_type": "stream",
          "name": "stderr",
          "text": [
            "<ipython-input-19-eef0485560cf>:2: FutureWarning: Calling int on a single element Series is deprecated and will raise a TypeError in the future. Use int(ser.iloc[0]) instead\n",
            "  expected = int(row[\"approved\"])\n",
            "<ipython-input-19-eef0485560cf>:3: DeprecationWarning: Conversion of an array with ndim > 0 to a scalar is deprecated, and will error in future. Ensure you extract a single element from your array before performing this operation. (Deprecated NumPy 1.25.)\n",
            "  predicted = int(clf.predict(row.drop(columns=[\"approved\"])))\n"
          ]
        }
      ]
    },
    {
      "cell_type": "code",
      "source": [
        "from sklearn.metrics import precision_score, f1_score\n",
        "\n",
        "# Calculamos la precisión y el f1 score\n",
        "y_true = Y_test\n",
        "y_pred_svm = clf.predict(X_test)\n",
        "\n",
        "precision = precision_score(y_true, y_pred_svm, average='macro')\n",
        "f1_score = f1_score(y_true, y_pred_svm, average='macro')\n",
        "print(f\"Precision score: {precision} \\nF1 score: {f1_score}\")"
      ],
      "metadata": {
        "colab": {
          "base_uri": "https://localhost:8080/"
        },
        "id": "I0E9SiBFNF8B",
        "outputId": "695af4d7-f34d-48d0-a6b0-a9dc701cb6be"
      },
      "execution_count": null,
      "outputs": [
        {
          "output_type": "stream",
          "name": "stdout",
          "text": [
            "Precision score: 0.8659423686233337 \n",
            "F1 score: 0.8850747884970257\n"
          ]
        }
      ]
    },
    {
      "cell_type": "markdown",
      "source": [
        "## 2.3) Medición de sesgo"
      ],
      "metadata": {
        "id": "2t3jnP4aVomt"
      }
    },
    {
      "cell_type": "code",
      "source": [
        "y_true = Y_test\n",
        "y_pred = y_pred_lr\n",
        "mother_job = X_test[\"mother_job\"]\n",
        "gender = X_test[\"gender\"]"
      ],
      "metadata": {
        "id": "bAL0LQDXZZTC"
      },
      "execution_count": null,
      "outputs": []
    },
    {
      "cell_type": "markdown",
      "source": [
        "### Independencia"
      ],
      "metadata": {
        "id": "ArnkI3pCV66V"
      }
    },
    {
      "cell_type": "markdown",
      "source": [
        "El atributo sensible es mother_job."
      ],
      "metadata": {
        "id": "6gkmoG8AbXZ7"
      }
    },
    {
      "cell_type": "code",
      "source": [
        "dp_diff = demographic_parity_difference(y_true, y_pred, sensitive_features= mother_job)\n",
        "dp_ratio = demographic_parity_ratio(y_true, y_pred, sensitive_features= mother_job)\n",
        "\n",
        "print(dp_diff)\n",
        "print(dp_ratio)"
      ],
      "metadata": {
        "colab": {
          "base_uri": "https://localhost:8080/"
        },
        "id": "tAq5sWhCWEm8",
        "outputId": "255edb1f-2167-458d-eb78-20cb19cd497c"
      },
      "execution_count": null,
      "outputs": [
        {
          "output_type": "stream",
          "name": "stdout",
          "text": [
            "0.020667969889290316\n",
            "0.9712427222237129\n"
          ]
        }
      ]
    },
    {
      "cell_type": "markdown",
      "source": [
        "El atributo sensible es gender."
      ],
      "metadata": {
        "id": "F0MGxvHjbdVg"
      }
    },
    {
      "cell_type": "code",
      "source": [
        "dp_diff = demographic_parity_difference(y_true, y_pred, sensitive_features= gender)\n",
        "dp_ratio = demographic_parity_ratio(y_true, y_pred, sensitive_features= gender)\n",
        "\n",
        "print(dp_diff)\n",
        "print(dp_ratio)"
      ],
      "metadata": {
        "colab": {
          "base_uri": "https://localhost:8080/"
        },
        "id": "MvO3JNpiajiW",
        "outputId": "3c6118f0-98e9-4594-e8f6-f04398f0f21e"
      },
      "execution_count": null,
      "outputs": [
        {
          "output_type": "stream",
          "name": "stdout",
          "text": [
            "0.00026561925342960535\n",
            "0.9996253862674404\n"
          ]
        }
      ]
    },
    {
      "cell_type": "markdown",
      "source": [
        "### Separación"
      ],
      "metadata": {
        "id": "cETk2dlAWAHR"
      }
    },
    {
      "cell_type": "markdown",
      "source": [
        "El atributo sensible es mother_job."
      ],
      "metadata": {
        "id": "p-KPt5Dfbg4C"
      }
    },
    {
      "cell_type": "code",
      "source": [
        "eo_diff = equalized_odds_difference(y_true, y_pred, sensitive_features= mother_job)\n",
        "eo_ratio = equalized_odds_ratio(y_true, y_pred, sensitive_features= mother_job)\n",
        "\n",
        "print(eo_diff)\n",
        "print(eo_ratio)"
      ],
      "metadata": {
        "colab": {
          "base_uri": "https://localhost:8080/"
        },
        "id": "L3BfKamXbjKM",
        "outputId": "995addf5-f482-4f80-8e8d-2af98145607f"
      },
      "execution_count": null,
      "outputs": [
        {
          "output_type": "stream",
          "name": "stdout",
          "text": [
            "0.025087783766127747\n",
            "0.534453781512605\n"
          ]
        }
      ]
    },
    {
      "cell_type": "markdown",
      "source": [
        "El atributo sensible es gender."
      ],
      "metadata": {
        "id": "In6lcabzbhU9"
      }
    },
    {
      "cell_type": "code",
      "source": [
        "eo_diff = equalized_odds_difference(y_true, y_pred, sensitive_features= gender)\n",
        "eo_ratio = equalized_odds_ratio(y_true, y_pred, sensitive_features= gender)\n",
        "\n",
        "print(eo_diff)\n",
        "print(eo_ratio)"
      ],
      "metadata": {
        "colab": {
          "base_uri": "https://localhost:8080/"
        },
        "id": "j7Y1HgeTavBN",
        "outputId": "b0ae993e-103f-425c-bf2f-702e34da402a"
      },
      "execution_count": null,
      "outputs": [
        {
          "output_type": "stream",
          "name": "stdout",
          "text": [
            "0.011927745193874295\n",
            "0.9803713527851459\n"
          ]
        }
      ]
    },
    {
      "cell_type": "markdown",
      "source": [
        "### Suficiencia"
      ],
      "metadata": {
        "id": "8l84eQe4WCB1"
      }
    },
    {
      "cell_type": "code",
      "source": [
        "from sklearn.metrics import precision_score\n",
        "\n",
        "# Función para calcular la Predictive Parity\n",
        "def predictive_parity(y_true, y_pred, sensitive_feature):\n",
        "    groups = sensitive_feature.unique()\n",
        "    precision_scores = {}\n",
        "    for group in groups:\n",
        "        mask = sensitive_feature == group\n",
        "        precision_scores[group] = precision_score(y_true[mask], y_pred[mask])\n",
        "    return precision_scores"
      ],
      "metadata": {
        "id": "rDq5sB1j9GGY"
      },
      "execution_count": null,
      "outputs": []
    },
    {
      "cell_type": "code",
      "source": [
        "pp_mother_job = predictive_parity(y_true, y_pred, mother_job)\n",
        "print(\"Predictive Parity for mother_job:\")\n",
        "for job, score in pp_mother_job.items():\n",
        "    print(f\"Group {job}: Precision {score}\")"
      ],
      "metadata": {
        "colab": {
          "base_uri": "https://localhost:8080/"
        },
        "id": "vb21hFqZ9JA8",
        "outputId": "01bb9a7b-e359-48e5-b55f-f5c8ed1a4c9c"
      },
      "execution_count": null,
      "outputs": [
        {
          "output_type": "stream",
          "name": "stdout",
          "text": [
            "Predictive Parity for mother_job:\n",
            "Group 0: Precision 0.9825819672131147\n",
            "Group 1: Precision 0.9906213364595545\n"
          ]
        }
      ]
    },
    {
      "cell_type": "code",
      "source": [
        "pp_gender = predictive_parity(y_true, y_pred, gender)\n",
        "print(\"\\nPredictive Parity for gender:\")\n",
        "for gen, score in pp_gender.items():\n",
        "    print(f\"Group {gen}: Precision {score}\")"
      ],
      "metadata": {
        "colab": {
          "base_uri": "https://localhost:8080/"
        },
        "id": "6S3N0c1X9LQW",
        "outputId": "7a2f4191-94e4-4f66-9513-4bbb67798a90"
      },
      "execution_count": null,
      "outputs": [
        {
          "output_type": "stream",
          "name": "stdout",
          "text": [
            "\n",
            "Predictive Parity for gender:\n",
            "Group 1: Precision 0.9867986798679867\n",
            "Group 0: Precision 0.9858695652173913\n"
          ]
        }
      ]
    },
    {
      "cell_type": "markdown",
      "source": [
        "## 2.4) Mitigación de sesgo\n"
      ],
      "metadata": {
        "id": "cKqQeTdyVvU6"
      }
    },
    {
      "cell_type": "code",
      "source": [
        "!pip install aif360"
      ],
      "metadata": {
        "colab": {
          "base_uri": "https://localhost:8080/"
        },
        "id": "yxrwCus7BbT9",
        "outputId": "ed49cf66-42c8-4a4e-9980-d2df16d88ea7"
      },
      "execution_count": null,
      "outputs": [
        {
          "output_type": "stream",
          "name": "stdout",
          "text": [
            "Collecting aif360\n",
            "  Downloading aif360-0.6.1-py3-none-any.whl.metadata (5.0 kB)\n",
            "Requirement already satisfied: numpy>=1.16 in /usr/local/lib/python3.10/dist-packages (from aif360) (1.26.4)\n",
            "Requirement already satisfied: scipy>=1.2.0 in /usr/local/lib/python3.10/dist-packages (from aif360) (1.13.1)\n",
            "Requirement already satisfied: pandas>=0.24.0 in /usr/local/lib/python3.10/dist-packages (from aif360) (2.2.2)\n",
            "Requirement already satisfied: scikit-learn>=1.0 in /usr/local/lib/python3.10/dist-packages (from aif360) (1.5.2)\n",
            "Requirement already satisfied: matplotlib in /usr/local/lib/python3.10/dist-packages (from aif360) (3.8.0)\n",
            "Requirement already satisfied: python-dateutil>=2.8.2 in /usr/local/lib/python3.10/dist-packages (from pandas>=0.24.0->aif360) (2.8.2)\n",
            "Requirement already satisfied: pytz>=2020.1 in /usr/local/lib/python3.10/dist-packages (from pandas>=0.24.0->aif360) (2024.2)\n",
            "Requirement already satisfied: tzdata>=2022.7 in /usr/local/lib/python3.10/dist-packages (from pandas>=0.24.0->aif360) (2024.2)\n",
            "Requirement already satisfied: joblib>=1.2.0 in /usr/local/lib/python3.10/dist-packages (from scikit-learn>=1.0->aif360) (1.4.2)\n",
            "Requirement already satisfied: threadpoolctl>=3.1.0 in /usr/local/lib/python3.10/dist-packages (from scikit-learn>=1.0->aif360) (3.5.0)\n",
            "Requirement already satisfied: contourpy>=1.0.1 in /usr/local/lib/python3.10/dist-packages (from matplotlib->aif360) (1.3.1)\n",
            "Requirement already satisfied: cycler>=0.10 in /usr/local/lib/python3.10/dist-packages (from matplotlib->aif360) (0.12.1)\n",
            "Requirement already satisfied: fonttools>=4.22.0 in /usr/local/lib/python3.10/dist-packages (from matplotlib->aif360) (4.55.0)\n",
            "Requirement already satisfied: kiwisolver>=1.0.1 in /usr/local/lib/python3.10/dist-packages (from matplotlib->aif360) (1.4.7)\n",
            "Requirement already satisfied: packaging>=20.0 in /usr/local/lib/python3.10/dist-packages (from matplotlib->aif360) (24.2)\n",
            "Requirement already satisfied: pillow>=6.2.0 in /usr/local/lib/python3.10/dist-packages (from matplotlib->aif360) (11.0.0)\n",
            "Requirement already satisfied: pyparsing>=2.3.1 in /usr/local/lib/python3.10/dist-packages (from matplotlib->aif360) (3.2.0)\n",
            "Requirement already satisfied: six>=1.5 in /usr/local/lib/python3.10/dist-packages (from python-dateutil>=2.8.2->pandas>=0.24.0->aif360) (1.16.0)\n",
            "Downloading aif360-0.6.1-py3-none-any.whl (259 kB)\n",
            "\u001b[2K   \u001b[90m━━━━━━━━━━━━━━━━━━━━━━━━━━━━━━━━━━━━━━━━\u001b[0m \u001b[32m259.7/259.7 kB\u001b[0m \u001b[31m3.8 MB/s\u001b[0m eta \u001b[36m0:00:00\u001b[0m\n",
            "\u001b[?25hInstalling collected packages: aif360\n",
            "Successfully installed aif360-0.6.1\n"
          ]
        }
      ]
    },
    {
      "cell_type": "code",
      "source": [
        "!pip install aif360[inFairness]"
      ],
      "metadata": {
        "colab": {
          "base_uri": "https://localhost:8080/"
        },
        "id": "v9dyevs8KW2d",
        "outputId": "01c6f0ec-87b2-4339-ec8b-465a59373922"
      },
      "execution_count": null,
      "outputs": [
        {
          "output_type": "stream",
          "name": "stdout",
          "text": [
            "Requirement already satisfied: aif360[inFairness] in /usr/local/lib/python3.10/dist-packages (0.6.1)\n",
            "Requirement already satisfied: numpy>=1.16 in /usr/local/lib/python3.10/dist-packages (from aif360[inFairness]) (1.26.4)\n",
            "Requirement already satisfied: scipy>=1.2.0 in /usr/local/lib/python3.10/dist-packages (from aif360[inFairness]) (1.13.1)\n",
            "Requirement already satisfied: pandas>=0.24.0 in /usr/local/lib/python3.10/dist-packages (from aif360[inFairness]) (2.2.2)\n",
            "Requirement already satisfied: scikit-learn>=1.0 in /usr/local/lib/python3.10/dist-packages (from aif360[inFairness]) (1.5.2)\n",
            "Requirement already satisfied: matplotlib in /usr/local/lib/python3.10/dist-packages (from aif360[inFairness]) (3.8.0)\n",
            "Collecting skorch (from aif360[inFairness])\n",
            "  Downloading skorch-1.0.0-py3-none-any.whl.metadata (11 kB)\n",
            "Collecting inFairness>=0.2.2 (from aif360[inFairness])\n",
            "  Downloading inFairness-0.2.3-py3-none-any.whl.metadata (8.1 kB)\n",
            "Collecting POT>=0.8.0 (from inFairness>=0.2.2->aif360[inFairness])\n",
            "  Downloading POT-0.9.5-cp310-cp310-manylinux_2_17_x86_64.manylinux2014_x86_64.whl.metadata (34 kB)\n",
            "Requirement already satisfied: torch>=1.13.0 in /usr/local/lib/python3.10/dist-packages (from inFairness>=0.2.2->aif360[inFairness]) (2.5.1+cu121)\n",
            "Requirement already satisfied: python-dateutil>=2.8.2 in /usr/local/lib/python3.10/dist-packages (from pandas>=0.24.0->aif360[inFairness]) (2.8.2)\n",
            "Requirement already satisfied: pytz>=2020.1 in /usr/local/lib/python3.10/dist-packages (from pandas>=0.24.0->aif360[inFairness]) (2024.2)\n",
            "Requirement already satisfied: tzdata>=2022.7 in /usr/local/lib/python3.10/dist-packages (from pandas>=0.24.0->aif360[inFairness]) (2024.2)\n",
            "Requirement already satisfied: joblib>=1.2.0 in /usr/local/lib/python3.10/dist-packages (from scikit-learn>=1.0->aif360[inFairness]) (1.4.2)\n",
            "Requirement already satisfied: threadpoolctl>=3.1.0 in /usr/local/lib/python3.10/dist-packages (from scikit-learn>=1.0->aif360[inFairness]) (3.5.0)\n",
            "Requirement already satisfied: contourpy>=1.0.1 in /usr/local/lib/python3.10/dist-packages (from matplotlib->aif360[inFairness]) (1.3.1)\n",
            "Requirement already satisfied: cycler>=0.10 in /usr/local/lib/python3.10/dist-packages (from matplotlib->aif360[inFairness]) (0.12.1)\n",
            "Requirement already satisfied: fonttools>=4.22.0 in /usr/local/lib/python3.10/dist-packages (from matplotlib->aif360[inFairness]) (4.55.0)\n",
            "Requirement already satisfied: kiwisolver>=1.0.1 in /usr/local/lib/python3.10/dist-packages (from matplotlib->aif360[inFairness]) (1.4.7)\n",
            "Requirement already satisfied: packaging>=20.0 in /usr/local/lib/python3.10/dist-packages (from matplotlib->aif360[inFairness]) (24.2)\n",
            "Requirement already satisfied: pillow>=6.2.0 in /usr/local/lib/python3.10/dist-packages (from matplotlib->aif360[inFairness]) (11.0.0)\n",
            "Requirement already satisfied: pyparsing>=2.3.1 in /usr/local/lib/python3.10/dist-packages (from matplotlib->aif360[inFairness]) (3.2.0)\n",
            "Requirement already satisfied: tabulate>=0.7.7 in /usr/local/lib/python3.10/dist-packages (from skorch->aif360[inFairness]) (0.9.0)\n",
            "Requirement already satisfied: tqdm>=4.14.0 in /usr/local/lib/python3.10/dist-packages (from skorch->aif360[inFairness]) (4.66.6)\n",
            "Requirement already satisfied: six>=1.5 in /usr/local/lib/python3.10/dist-packages (from python-dateutil>=2.8.2->pandas>=0.24.0->aif360[inFairness]) (1.16.0)\n",
            "Requirement already satisfied: filelock in /usr/local/lib/python3.10/dist-packages (from torch>=1.13.0->inFairness>=0.2.2->aif360[inFairness]) (3.16.1)\n",
            "Requirement already satisfied: typing-extensions>=4.8.0 in /usr/local/lib/python3.10/dist-packages (from torch>=1.13.0->inFairness>=0.2.2->aif360[inFairness]) (4.12.2)\n",
            "Requirement already satisfied: networkx in /usr/local/lib/python3.10/dist-packages (from torch>=1.13.0->inFairness>=0.2.2->aif360[inFairness]) (3.4.2)\n",
            "Requirement already satisfied: jinja2 in /usr/local/lib/python3.10/dist-packages (from torch>=1.13.0->inFairness>=0.2.2->aif360[inFairness]) (3.1.4)\n",
            "Requirement already satisfied: fsspec in /usr/local/lib/python3.10/dist-packages (from torch>=1.13.0->inFairness>=0.2.2->aif360[inFairness]) (2024.10.0)\n",
            "Requirement already satisfied: sympy==1.13.1 in /usr/local/lib/python3.10/dist-packages (from torch>=1.13.0->inFairness>=0.2.2->aif360[inFairness]) (1.13.1)\n",
            "Requirement already satisfied: mpmath<1.4,>=1.1.0 in /usr/local/lib/python3.10/dist-packages (from sympy==1.13.1->torch>=1.13.0->inFairness>=0.2.2->aif360[inFairness]) (1.3.0)\n",
            "Requirement already satisfied: MarkupSafe>=2.0 in /usr/local/lib/python3.10/dist-packages (from jinja2->torch>=1.13.0->inFairness>=0.2.2->aif360[inFairness]) (3.0.2)\n",
            "Downloading inFairness-0.2.3-py3-none-any.whl (45 kB)\n",
            "\u001b[2K   \u001b[90m━━━━━━━━━━━━━━━━━━━━━━━━━━━━━━━━━━━━━━━━\u001b[0m \u001b[32m45.8/45.8 kB\u001b[0m \u001b[31m2.8 MB/s\u001b[0m eta \u001b[36m0:00:00\u001b[0m\n",
            "\u001b[?25hDownloading skorch-1.0.0-py3-none-any.whl (239 kB)\n",
            "\u001b[2K   \u001b[90m━━━━━━━━━━━━━━━━━━━━━━━━━━━━━━━━━━━━━━━━\u001b[0m \u001b[32m239.4/239.4 kB\u001b[0m \u001b[31m4.0 MB/s\u001b[0m eta \u001b[36m0:00:00\u001b[0m\n",
            "\u001b[?25hDownloading POT-0.9.5-cp310-cp310-manylinux_2_17_x86_64.manylinux2014_x86_64.whl (865 kB)\n",
            "\u001b[2K   \u001b[90m━━━━━━━━━━━━━━━━━━━━━━━━━━━━━━━━━━━━━━━━\u001b[0m \u001b[32m865.6/865.6 kB\u001b[0m \u001b[31m25.3 MB/s\u001b[0m eta \u001b[36m0:00:00\u001b[0m\n",
            "\u001b[?25hInstalling collected packages: POT, skorch, inFairness\n",
            "Successfully installed POT-0.9.5 inFairness-0.2.3 skorch-1.0.0\n"
          ]
        }
      ]
    },
    {
      "cell_type": "markdown",
      "source": [
        "### 2.4.1) Pre-procesamiento"
      ],
      "metadata": {
        "id": "18g6JxRp1LE-"
      }
    },
    {
      "cell_type": "code",
      "source": [
        "from aif360.datasets import BinaryLabelDataset\n",
        "from aif360.algorithms.preprocessing import Reweighing\n",
        "\n",
        "protected_attributes = ['mother_job', 'gender']\n",
        "unprivileged_groups = [{'mother_job': 0, 'gender': 0}]\n",
        "privileged_groups = [{'mother_job': 1, 'gender': 1}]\n",
        "\n",
        "data_aif = BinaryLabelDataset(\n",
        "    df=pd.concat([X_train, Y_train], axis=1),\n",
        "    label_names=['approved'],\n",
        "    protected_attribute_names=protected_attributes\n",
        ")\n",
        "\n",
        "# Aplica el Reweighting\n",
        "rw = Reweighing(unprivileged_groups=unprivileged_groups, privileged_groups=privileged_groups)\n",
        "data_rw = rw.fit_transform(data_aif)\n",
        "\n",
        "# Entrenamiento del modelo con la data Reweighted\n",
        "X_train_rw = data_rw.features\n",
        "y_train_rw = data_rw.labels.ravel()\n",
        "clf_rw = LogisticRegression(random_state=0, max_iter=1000).fit(X_train_rw, y_train_rw)"
      ],
      "metadata": {
        "id": "mpzgofeYK4Iu"
      },
      "execution_count": null,
      "outputs": []
    },
    {
      "cell_type": "code",
      "source": [
        "from aif360.metrics import BinaryLabelDatasetMetric\n",
        "\n",
        "# Métricas del modelo original\n",
        "metric_orig_train = BinaryLabelDatasetMetric(\n",
        "    data_aif,\n",
        "    unprivileged_groups=unprivileged_groups,\n",
        "    privileged_groups=privileged_groups\n",
        ")\n",
        "\n",
        "print(\"Original training dataset metrics:\")\n",
        "print(\"Difference in mean outcomes between unprivileged and privileged groups = %f\" % metric_orig_train.mean_difference())\n",
        "\n",
        "# Métricas para el modelo Reweighted\n",
        "metric_rw_train = BinaryLabelDatasetMetric(\n",
        "    data_rw,\n",
        "    unprivileged_groups=unprivileged_groups,\n",
        "    privileged_groups=privileged_groups\n",
        ")\n",
        "\n",
        "print(\"\\nReweighted training dataset metrics:\")\n",
        "print(\"Difference in mean outcomes between unprivileged and privileged groups = %f\" % metric_rw_train.mean_difference())"
      ],
      "metadata": {
        "colab": {
          "base_uri": "https://localhost:8080/"
        },
        "id": "Yb9wPSrtLe0X",
        "outputId": "c2aef34a-c914-4937-b5a8-79dac08b1a37"
      },
      "execution_count": null,
      "outputs": [
        {
          "output_type": "stream",
          "name": "stdout",
          "text": [
            "Original training dataset metrics:\n",
            "Difference in mean outcomes between unprivileged and privileged groups = -0.002918\n",
            "\n",
            "Reweighted training dataset metrics:\n",
            "Difference in mean outcomes between unprivileged and privileged groups = -0.000000\n"
          ]
        }
      ]
    },
    {
      "cell_type": "markdown",
      "source": [
        "### 2.4.2) In-procesamiento"
      ],
      "metadata": {
        "id": "uNELsR8Q1QQ3"
      }
    },
    {
      "cell_type": "code",
      "source": [
        "from aif360.algorithms.inprocessing import AdversarialDebiasing\n",
        "from aif360.metrics import BinaryLabelDatasetMetric\n",
        "\n",
        "import tensorflow.compat.v1 as tf\n",
        "tf.disable_v2_behavior()\n",
        "\n",
        "sess = tf.Session()\n",
        "\n",
        "# Inicialización del modelo Adversarial Debiasing\n",
        "adv_debiasing = AdversarialDebiasing(privileged_groups=privileged_groups,\n",
        "                                     unprivileged_groups=unprivileged_groups,\n",
        "                                     scope_name='adversarial_debiasing',\n",
        "                                     debias=True,\n",
        "                                     seed=66,\n",
        "                                     sess=sess)\n",
        "\n",
        "# Entrenamiento del modelo usando el dataset original\n",
        "adv_debiasing.fit(data_aif)\n",
        "\n",
        "# Aplica el modelo sin sesgo para predicciones\n",
        "data_aif_pred = adv_debiasing.predict(data_aif)\n",
        "\n",
        "# Fairness para el modelo original\n",
        "metric_orig = BinaryLabelDatasetMetric(data_aif,\n",
        "                                       unprivileged_groups=unprivileged_groups,\n",
        "                                       privileged_groups=privileged_groups)\n",
        "print(\"Original dataset metrics:\")\n",
        "print(f\"Difference in mean outcomes between unprivileged and privileged groups: {metric_orig.mean_difference():.6f}\")\n",
        "\n",
        "# Fairness para el Adversarial Debiasing\n",
        "metric_pred = BinaryLabelDatasetMetric(data_aif_pred,\n",
        "                                       unprivileged_groups=unprivileged_groups,\n",
        "                                       privileged_groups=privileged_groups)\n",
        "print(\"\\nAdversarial Debiasing dataset metrics:\")\n",
        "print(f\"Difference in mean outcomes between unprivileged and privileged groups: {metric_pred.mean_difference():.6f}\")"
      ],
      "metadata": {
        "colab": {
          "base_uri": "https://localhost:8080/"
        },
        "id": "HWjqP134ML9F",
        "outputId": "b6fa46de-1410-4d99-dd9d-8d7d9b6e5638"
      },
      "execution_count": null,
      "outputs": [
        {
          "output_type": "stream",
          "name": "stderr",
          "text": [
            "WARNING:tensorflow:From /usr/local/lib/python3.10/dist-packages/tensorflow/python/compat/v2_compat.py:98: disable_resource_variables (from tensorflow.python.ops.resource_variables_toggle) is deprecated and will be removed in a future version.\n",
            "Instructions for updating:\n",
            "non-resource variables are not supported in the long term\n",
            "WARNING:tensorflow:From /usr/local/lib/python3.10/dist-packages/tensorflow/python/util/dispatch.py:1260: calling dropout (from tensorflow.python.ops.nn_ops) with keep_prob is deprecated and will be removed in a future version.\n",
            "Instructions for updating:\n",
            "Please use `rate` instead of `keep_prob`. Rate should be set to `rate = 1 - keep_prob`.\n"
          ]
        },
        {
          "output_type": "stream",
          "name": "stdout",
          "text": [
            "epoch 0; iter: 0; batch classifier loss: 1.615634; batch adversarial loss: 0.679285\n",
            "epoch 1; iter: 0; batch classifier loss: 0.770614; batch adversarial loss: 0.674977\n",
            "epoch 2; iter: 0; batch classifier loss: 0.411477; batch adversarial loss: 0.709772\n",
            "epoch 3; iter: 0; batch classifier loss: 0.306289; batch adversarial loss: 0.682934\n",
            "epoch 4; iter: 0; batch classifier loss: 0.244092; batch adversarial loss: 0.693558\n",
            "epoch 5; iter: 0; batch classifier loss: 0.175979; batch adversarial loss: 0.689615\n",
            "epoch 6; iter: 0; batch classifier loss: 0.314036; batch adversarial loss: 0.704394\n",
            "epoch 7; iter: 0; batch classifier loss: 0.273176; batch adversarial loss: 0.698767\n",
            "epoch 8; iter: 0; batch classifier loss: 0.304900; batch adversarial loss: 0.699427\n",
            "epoch 9; iter: 0; batch classifier loss: 0.264467; batch adversarial loss: 0.696887\n",
            "epoch 10; iter: 0; batch classifier loss: 0.206590; batch adversarial loss: 0.702454\n",
            "epoch 11; iter: 0; batch classifier loss: 0.260238; batch adversarial loss: 0.701112\n",
            "epoch 12; iter: 0; batch classifier loss: 0.237720; batch adversarial loss: 0.695942\n",
            "epoch 13; iter: 0; batch classifier loss: 0.244119; batch adversarial loss: 0.684397\n",
            "epoch 14; iter: 0; batch classifier loss: 0.264121; batch adversarial loss: 0.703362\n",
            "epoch 15; iter: 0; batch classifier loss: 0.254312; batch adversarial loss: 0.700262\n",
            "epoch 16; iter: 0; batch classifier loss: 0.264273; batch adversarial loss: 0.694696\n",
            "epoch 17; iter: 0; batch classifier loss: 0.180985; batch adversarial loss: 0.699800\n",
            "epoch 18; iter: 0; batch classifier loss: 0.175703; batch adversarial loss: 0.698577\n",
            "epoch 19; iter: 0; batch classifier loss: 0.140927; batch adversarial loss: 0.685786\n",
            "epoch 20; iter: 0; batch classifier loss: 0.219459; batch adversarial loss: 0.691114\n",
            "epoch 21; iter: 0; batch classifier loss: 0.175019; batch adversarial loss: 0.700956\n",
            "epoch 22; iter: 0; batch classifier loss: 0.166551; batch adversarial loss: 0.689749\n",
            "epoch 23; iter: 0; batch classifier loss: 0.260737; batch adversarial loss: 0.697354\n",
            "epoch 24; iter: 0; batch classifier loss: 0.231177; batch adversarial loss: 0.691005\n",
            "epoch 25; iter: 0; batch classifier loss: 0.321125; batch adversarial loss: 0.689800\n",
            "epoch 26; iter: 0; batch classifier loss: 0.274478; batch adversarial loss: 0.688178\n",
            "epoch 27; iter: 0; batch classifier loss: 0.185435; batch adversarial loss: 0.692107\n",
            "epoch 28; iter: 0; batch classifier loss: 0.207391; batch adversarial loss: 0.688944\n",
            "epoch 29; iter: 0; batch classifier loss: 0.176579; batch adversarial loss: 0.697337\n",
            "epoch 30; iter: 0; batch classifier loss: 0.226140; batch adversarial loss: 0.693994\n",
            "epoch 31; iter: 0; batch classifier loss: 0.220996; batch adversarial loss: 0.687786\n",
            "epoch 32; iter: 0; batch classifier loss: 0.295634; batch adversarial loss: 0.689436\n",
            "epoch 33; iter: 0; batch classifier loss: 0.277713; batch adversarial loss: 0.697685\n",
            "epoch 34; iter: 0; batch classifier loss: 0.231899; batch adversarial loss: 0.695499\n",
            "epoch 35; iter: 0; batch classifier loss: 0.234599; batch adversarial loss: 0.688260\n",
            "epoch 36; iter: 0; batch classifier loss: 0.179373; batch adversarial loss: 0.693883\n",
            "epoch 37; iter: 0; batch classifier loss: 0.159754; batch adversarial loss: 0.692894\n",
            "epoch 38; iter: 0; batch classifier loss: 0.197513; batch adversarial loss: 0.694802\n",
            "epoch 39; iter: 0; batch classifier loss: 0.195346; batch adversarial loss: 0.693702\n",
            "epoch 40; iter: 0; batch classifier loss: 0.295573; batch adversarial loss: 0.698471\n",
            "epoch 41; iter: 0; batch classifier loss: 0.176646; batch adversarial loss: 0.689577\n",
            "epoch 42; iter: 0; batch classifier loss: 0.302266; batch adversarial loss: 0.686351\n",
            "epoch 43; iter: 0; batch classifier loss: 0.248096; batch adversarial loss: 0.693331\n",
            "epoch 44; iter: 0; batch classifier loss: 0.170575; batch adversarial loss: 0.693921\n",
            "epoch 45; iter: 0; batch classifier loss: 0.210848; batch adversarial loss: 0.687534\n",
            "epoch 46; iter: 0; batch classifier loss: 0.132832; batch adversarial loss: 0.693794\n",
            "epoch 47; iter: 0; batch classifier loss: 0.204723; batch adversarial loss: 0.687643\n",
            "epoch 48; iter: 0; batch classifier loss: 0.230140; batch adversarial loss: 0.695278\n",
            "epoch 49; iter: 0; batch classifier loss: 0.238853; batch adversarial loss: 0.696844\n",
            "Original dataset metrics:\n",
            "Difference in mean outcomes between unprivileged and privileged groups: -0.002918\n",
            "\n",
            "Adversarial Debiasing dataset metrics:\n",
            "Difference in mean outcomes between unprivileged and privileged groups: 0.012257\n"
          ]
        }
      ]
    },
    {
      "cell_type": "markdown",
      "source": [
        "### 2.4.3) Post-procesamiento"
      ],
      "metadata": {
        "id": "HKaS080d1Qie"
      }
    },
    {
      "cell_type": "code",
      "source": [
        "from aif360.algorithms.postprocessing import EqOddsPostprocessing\n",
        "from aif360.metrics import BinaryLabelDatasetMetric, ClassificationMetric\n",
        "from sklearn.linear_model import LogisticRegression\n",
        "from sklearn.preprocessing import StandardScaler\n",
        "import numpy as np\n",
        "\n",
        "# Entrenamiento de un clasificador basado en el modelo original\n",
        "scale = StandardScaler()\n",
        "X_train = scale.fit_transform(data_aif.features)\n",
        "y_train = data_aif.labels.ravel()\n",
        "clf = LogisticRegression(random_state=66, max_iter=1000)\n",
        "clf.fit(X_train, y_train)\n",
        "\n",
        "# Las predicciones de los modelos\n",
        "y_train_pred_prob = clf.predict_proba(X_train)[:, 1]  # Get probabilities for positive class\n",
        "\n",
        "data_aif_pred = data_aif.copy(deepcopy=True)\n",
        "data_aif_pred.scores = y_train_pred_prob.reshape(-1, 1)\n",
        "\n",
        "eop = EqOddsPostprocessing(privileged_groups=privileged_groups,\n",
        "                            unprivileged_groups=unprivileged_groups)\n",
        "eop = eop.fit(data_aif, data_aif_pred)\n",
        "data_aif_pred_eop = eop.predict(data_aif_pred)\n",
        "\n",
        "# Fairness para el dataset original\n",
        "metric_orig = BinaryLabelDatasetMetric(data_aif,\n",
        "                                       unprivileged_groups=unprivileged_groups,\n",
        "                                       privileged_groups=privileged_groups)\n",
        "print(\"Original dataset metrics:\")\n",
        "print(f\"Difference in mean outcomes between unprivileged and privileged groups: {metric_orig.mean_difference():.6f}\")\n",
        "\n",
        "# Fairness para el dataset luego del Equalized Odds Post-Processing\n",
        "metric_pred = BinaryLabelDatasetMetric(data_aif_pred_eop,\n",
        "                                       unprivileged_groups=unprivileged_groups,\n",
        "                                       privileged_groups=privileged_groups)\n",
        "print(\"\\nEqualized Odds Post-Processing dataset metrics:\")\n",
        "print(f\"Difference in mean outcomes between unprivileged and privileged groups: {metric_pred.mean_difference():.6f}\")\n"
      ],
      "metadata": {
        "colab": {
          "base_uri": "https://localhost:8080/"
        },
        "id": "FEdGMBwkyMWh",
        "outputId": "93ddb794-3862-4a8b-e2a7-f771dc6edb3b"
      },
      "execution_count": null,
      "outputs": [
        {
          "output_type": "stream",
          "name": "stdout",
          "text": [
            "Original dataset metrics:\n",
            "Difference in mean outcomes between unprivileged and privileged groups: -0.002918\n",
            "\n",
            "Equalized Odds Post-Processing dataset metrics:\n",
            "Difference in mean outcomes between unprivileged and privileged groups: -0.002918\n"
          ]
        }
      ]
    },
    {
      "cell_type": "code",
      "source": [
        "from aif360.metrics import ClassificationMetric\n",
        "\n",
        "# Métrica de clasificiación para el modelo luego del Equalized Odds Post-Processing\n",
        "cm_pred = ClassificationMetric(data_aif, data_aif_pred_eop,\n",
        "                               unprivileged_groups=unprivileged_groups,\n",
        "                               privileged_groups=privileged_groups)\n",
        "\n",
        "\n",
        "print(f\"Difference in GFPR between unprivileged and privileged groups: {cm_pred.difference(cm_pred.generalized_false_positive_rate)}\")\n",
        "print(f\"Difference in GFNR between unprivileged and privileged groups: {cm_pred.difference(cm_pred.generalized_false_negative_rate)}\")"
      ],
      "metadata": {
        "colab": {
          "base_uri": "https://localhost:8080/"
        },
        "id": "x5Arm1pYy4uM",
        "outputId": "293b6cdb-161e-4300-d7d0-b96b7faa8dfe"
      },
      "execution_count": null,
      "outputs": [
        {
          "output_type": "stream",
          "name": "stdout",
          "text": [
            "Difference in GFPR between unprivileged and privileged groups: -0.03325325549875968\n",
            "Difference in GFNR between unprivileged and privileged groups: -0.008104288716572747\n"
          ]
        }
      ]
    },
    {
      "cell_type": "markdown",
      "source": [
        "## 2.5) Análisis de Resultados\n"
      ],
      "metadata": {
        "id": "b0Tnybc8VxeA"
      }
    },
    {
      "cell_type": "code",
      "source": [
        "# predicciones 1\n",
        "precision_orig = precision_score(y_true, y_pred_lr)\n",
        "print(f\"Precision (Original Dataset): {precision_orig:.4f}\")\n",
        "\n",
        "# Predicciones del modelo rebalanceado\n",
        "y_pred_rw = clf_rw.predict(X_test)\n",
        "precision_rw = precision_score(y_true, y_pred_rw)\n",
        "print(f\"Precision (Reweighted Dataset): {precision_rw:.4f}\")"
      ],
      "metadata": {
        "colab": {
          "base_uri": "https://localhost:8080/"
        },
        "id": "dS6kBKeTQEjV",
        "outputId": "8c1f8123-c128-4fb8-aa63-779d6ace4d57"
      },
      "execution_count": null,
      "outputs": [
        {
          "output_type": "stream",
          "name": "stdout",
          "text": [
            "Precision (Original Dataset): 0.9863\n",
            "Precision (Reweighted Dataset): 0.9863\n"
          ]
        },
        {
          "output_type": "stream",
          "name": "stderr",
          "text": [
            "/usr/local/lib/python3.10/dist-packages/sklearn/base.py:486: UserWarning: X has feature names, but LogisticRegression was fitted without feature names\n",
            "  warnings.warn(\n"
          ]
        }
      ]
    },
    {
      "cell_type": "code",
      "source": [
        "# Predicciones 2\n",
        "data_test_aif = BinaryLabelDataset(df=pd.concat([X_test, Y_test], axis=1),\n",
        "                                   label_names=['approved'],\n",
        "                                   protected_attribute_names=['mother_job', 'gender'])\n",
        "\n",
        "# Predicciones del modelo adversario\n",
        "data_test_pred_adv = adv_debiasing.predict(data_test_aif)\n",
        "y_pred_adv = data_test_pred_adv.labels.ravel()\n",
        "precision_adv = precision_score(Y_test, y_pred_adv)\n",
        "\n",
        "# Imprime los valores de precisión\n",
        "print(f\"Precision (Original Model): {precision_orig:.4f}\")\n",
        "print(f\"Precision (Adversarial Debiasing Model): {precision_adv:.4f}\")"
      ],
      "metadata": {
        "colab": {
          "base_uri": "https://localhost:8080/"
        },
        "id": "pSDum3KFQLnx",
        "outputId": "fc5db2d6-86ab-4acd-af54-a20da943432e"
      },
      "execution_count": null,
      "outputs": [
        {
          "output_type": "stream",
          "name": "stdout",
          "text": [
            "Precision (Original Model): 0.9863\n",
            "Precision (Adversarial Debiasing Model): 0.9816\n"
          ]
        }
      ]
    },
    {
      "cell_type": "code",
      "source": [
        "# Predicciones 3\n",
        "y_train_pred_eop = (data_aif_pred_eop.scores >= 0.5).astype(int)\n",
        "precision_eop = precision_score(y_train, y_train_pred_eop)\n",
        "print(f\"Precision (Original Model): {precision_orig:.4f}\")\n",
        "print(f\"Precision (Equalized Odds Post-Processing Dataset): {precision_eop:.4f}\")"
      ],
      "metadata": {
        "colab": {
          "base_uri": "https://localhost:8080/"
        },
        "id": "n80xcd31QnSq",
        "outputId": "7f46e56e-9e68-4f5a-afb2-be50d74a1aeb"
      },
      "execution_count": null,
      "outputs": [
        {
          "output_type": "stream",
          "name": "stdout",
          "text": [
            "Precision (Original Model): 0.9863\n",
            "Precision (Equalized Odds Post-Processing Dataset): 0.9899\n"
          ]
        }
      ]
    },
    {
      "cell_type": "markdown",
      "source": [
        "## 2.6) Selección del Modelo Final\n"
      ],
      "metadata": {
        "id": "w9abIR1bV2xl"
      }
    },
    {
      "cell_type": "markdown",
      "source": [
        "Al analizar los resultados podemos verificar que el modelo que mejor mitiga los sesgos sin afectar la precisión es el Reweighing en pre procesamiento, comparándolo con los otros modelos estos no logran cambiar los sesgos originales, incluso el Adversarial Debiasing traspasa el sesgo del grupo no privilegiado al privilegiado, produciendo sobrecompensación en la corrección.\n",
        "\n",
        "Por lo tanto la estrategia de mitigación recomendada para este data set, es Reweighing en pre procesamiento.\n"
      ],
      "metadata": {
        "id": "sa5T9wsNWpLS"
      }
    }
  ]
}